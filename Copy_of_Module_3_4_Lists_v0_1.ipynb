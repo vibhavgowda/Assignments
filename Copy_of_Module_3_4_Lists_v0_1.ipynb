{
  "nbformat": 4,
  "nbformat_minor": 0,
  "metadata": {
    "colab": {
      "name": "Copy of Module_3.4_Lists_v0.1.ipynb",
      "version": "0.3.2",
      "provenance": [],
      "collapsed_sections": [],
      "include_colab_link": true
    },
    "language_info": {
      "codemirror_mode": {
        "name": "ipython",
        "version": 3
      },
      "file_extension": ".py",
      "mimetype": "text/x-python",
      "name": "python",
      "nbconvert_exporter": "python",
      "pygments_lexer": "ipython3",
      "version": "3.5.2"
    },
    "kernelspec": {
      "display_name": "Python 3",
      "language": "python",
      "name": "python3"
    }
  },
  "cells": [
    {
      "cell_type": "markdown",
      "metadata": {
        "id": "view-in-github",
        "colab_type": "text"
      },
      "source": [
        "<a href=\"https://colab.research.google.com/github/vibhavgowda/case1/blob/master/Copy_of_Module_3_4_Lists_v0_1.ipynb\" target=\"_parent\"><img src=\"https://colab.research.google.com/assets/colab-badge.svg\" alt=\"Open In Colab\"/></a>"
      ]
    },
    {
      "cell_type": "markdown",
      "metadata": {
        "id": "6z_M_pG0cNpH",
        "colab_type": "text"
      },
      "source": [
        "#LISTS  IN PYTHON"
      ]
    },
    {
      "cell_type": "markdown",
      "metadata": {
        "id": "zUUuJRP2cNpI",
        "colab_type": "text"
      },
      "source": [
        "\n",
        "## Table of Contents\n",
        "\n",
        "\n",
        "<div class=\"alert alert-block alert-info\" style=\"margin-top: 20px\">\n",
        "<li><a href=\"#ref0\">About the Dataset</a></li>\n",
        "<li><a href=\"#ref1\">Lists</a></li>\n",
        "<li><a href=\"#ref2\">Quiz</a></li>\n",
        "<br>\n",
        "<p></p>\n",
        "Estimated Time Needed: <strong>15 min</strong>\n",
        "</div>\n",
        "\n",
        "<hr>"
      ]
    },
    {
      "cell_type": "markdown",
      "metadata": {
        "id": "e6ku7m3AcNpI",
        "colab_type": "text"
      },
      "source": [
        "<a id=\"ref0\"></a>\n",
        "<center><h2>About the Dataset</h2></center>"
      ]
    },
    {
      "cell_type": "markdown",
      "metadata": {
        "id": "SvHn_BmUcNpJ",
        "colab_type": "text"
      },
      "source": [
        "Imagine you received many music recommendations from your friends and compiled all of the recommendations into a table, with specific information about each movie.\n",
        "\n",
        "The table has one row for each album and several columns:\n",
        "\n",
        "- **artist** - Name of the artist\n",
        "- **album** - Name of the album\n",
        "- **released_year** - Year the album was released\n",
        "- **length_min_sec** - Length of the album (hours,minutes,seconds)\n",
        "- **genre** - Genre of the album\n",
        "- **music_recording_sales_millions** - Music recording sales (millions in USD) on [SONG://DATABASE](http://www.song-database.com/)\n",
        "- **claimed_sales_millions** - Album's claimed sales (millions in USD) on [SONG://DATABASE](http://www.song-database.com/)\n",
        "- **date_released** - Date on which the album was released\n",
        "- **soundtrack** - Indicates if the album is the movie soundtrack (Y) or (N)\n",
        "- **rating_of_friends** - Indicates the rating from your friends from 1 to 10\n",
        "<br>\n",
        "<br>\n",
        "\n",
        "The dataset can be seen below:\n",
        "\n",
        "<font size=\"1\">\n",
        "<table font-size:xx-small style=\"width:25%\">\n",
        "  <tr>\n",
        "    <th>Artist</th>\n",
        "    <th>Album</th> \n",
        "    <th>Released</th>\n",
        "    <th>Length</th>\n",
        "    <th>Genre</th> \n",
        "    <th>Music recording sales (millions)</th>\n",
        "    <th>Claimed sales (millions)</th>\n",
        "    <th>Released</th>\n",
        "    <th>Soundtrack</th>\n",
        "    <th>Rating (friends)</th>\n",
        "  </tr>\n",
        "  <tr>\n",
        "    <td>Michael Jackson</td>\n",
        "    <td>Thriller</td> \n",
        "    <td>1982</td>\n",
        "    <td>00:42:19</td>\n",
        "    <td>Pop, rock, R&B</td>\n",
        "    <td>46</td>\n",
        "    <td>65</td>\n",
        "    <td>30-Nov-82</td>\n",
        "    <td></td>\n",
        "    <td>10.0</td>\n",
        "  </tr>\n",
        "  <tr>\n",
        "    <td>AC/DC</td>\n",
        "    <td>Back in Black</td> \n",
        "    <td>1980</td>\n",
        "    <td>00:42:11</td>\n",
        "    <td>Hard rock</td>\n",
        "    <td>26.1</td>\n",
        "    <td>50</td>\n",
        "    <td>25-Jul-80</td>\n",
        "    <td></td>\n",
        "    <td>8.5</td>\n",
        "  </tr>\n",
        "    <tr>\n",
        "    <td>Pink Floyd</td>\n",
        "    <td>The Dark Side of the Moon</td> \n",
        "    <td>1973</td>\n",
        "    <td>00:42:49</td>\n",
        "    <td>Progressive rock</td>\n",
        "    <td>24.2</td>\n",
        "    <td>45</td>\n",
        "    <td>01-Mar-73</td>\n",
        "    <td></td>\n",
        "    <td>9.5</td>\n",
        "  </tr>\n",
        "    <tr>\n",
        "    <td>Whitney Houston</td>\n",
        "    <td>The Bodyguard</td> \n",
        "    <td>1992</td>\n",
        "    <td>00:57:44</td>\n",
        "    <td>Soundtrack/R&B, soul, pop</td>\n",
        "    <td>26.1</td>\n",
        "    <td>50</td>\n",
        "    <td>25-Jul-80</td>\n",
        "    <td>Y</td>\n",
        "    <td>7.0</td>\n",
        "  </tr>\n",
        "    <tr>\n",
        "    <td>Meat Loaf</td>\n",
        "    <td>Bat Out of Hell</td> \n",
        "    <td>1977</td>\n",
        "    <td>00:46:33</td>\n",
        "    <td>Hard rock, progressive rock</td>\n",
        "    <td>20.6</td>\n",
        "    <td>43</td>\n",
        "    <td>21-Oct-77</td>\n",
        "    <td></td>\n",
        "    <td>7.0</td>\n",
        "  </tr>\n",
        "    <tr>\n",
        "    <td>Eagles</td>\n",
        "    <td>Their Greatest Hits (1971-1975)</td> \n",
        "    <td>1976</td>\n",
        "    <td>00:43:08</td>\n",
        "    <td>Rock, soft rock, folk rock</td>\n",
        "    <td>32.2</td>\n",
        "    <td>42</td>\n",
        "    <td>17-Feb-76</td>\n",
        "    <td></td>\n",
        "    <td>9.5</td>\n",
        "  </tr>\n",
        "    <tr>\n",
        "    <td>Bee Gees</td>\n",
        "    <td>Saturday Night Fever</td> \n",
        "    <td>1977</td>\n",
        "    <td>1:15:54</td>\n",
        "    <td>Disco</td>\n",
        "    <td>20.6</td>\n",
        "    <td>40</td>\n",
        "    <td>15-Nov-77</td>\n",
        "    <td>Y</td>\n",
        "    <td>9.0</td>\n",
        "  </tr>\n",
        "    <tr>\n",
        "    <td>Fleetwood Mac</td>\n",
        "    <td>Rumours</td> \n",
        "    <td>1977</td>\n",
        "    <td>00:40:01</td>\n",
        "    <td>Soft rock</td>\n",
        "    <td>27.9</td>\n",
        "    <td>40</td>\n",
        "    <td>04-Feb-77</td>\n",
        "    <td></td>\n",
        "    <td>9.5</td>\n",
        "  </tr>\n",
        "</table></font>"
      ]
    },
    {
      "cell_type": "markdown",
      "metadata": {
        "id": "0lewqnHQcNpJ",
        "colab_type": "text"
      },
      "source": [
        "<hr>"
      ]
    },
    {
      "cell_type": "markdown",
      "metadata": {
        "id": "qdkRlzCYcNpK",
        "colab_type": "text"
      },
      "source": [
        "<a id=\"ref1\"></a>\n",
        "<center><h2>Lists</h2></center>\n",
        "\n",
        "We are going to take a look at lists in Python. A list is a sequenced collection of different objects such as integers, strings, and other lists as well. The address of each element within a list is called an 'index'. An index is used to access and refer to items within a list.\n"
      ]
    },
    {
      "cell_type": "markdown",
      "metadata": {
        "id": "QB_C-YsNcNpK",
        "colab_type": "text"
      },
      "source": [
        "<a ><img src = \"https://ibm.box.com/shared/static/eln445fv5nzv3wlm4u8dnfhbrcrv0hff.png\" width = 1000, align = \"center\"></a>\n",
        "  <h4 align=center> Representation of a list  \n",
        "  </h4> \n",
        "\n",
        "\n",
        "\n"
      ]
    },
    {
      "cell_type": "markdown",
      "metadata": {
        "id": "bVGlx0t1cNpL",
        "colab_type": "text"
      },
      "source": [
        " To create a list, type the list within square brackets **[ ]**, with your content inside the parenthesis and separated by commas. Let’s try it!"
      ]
    },
    {
      "cell_type": "code",
      "metadata": {
        "id": "6ISC-Xn-cNpL",
        "colab_type": "code",
        "colab": {
          "base_uri": "https://localhost:8080/",
          "height": 34
        },
        "outputId": "36ef256e-91f3-4193-cedc-2c1a844467ec"
      },
      "source": [
        "L = [\"Michael Jackson\" , 10.1,1982]\n",
        "L"
      ],
      "execution_count": 2,
      "outputs": [
        {
          "output_type": "execute_result",
          "data": {
            "text/plain": [
              "['Michael Jackson', 10.1, 1982]"
            ]
          },
          "metadata": {
            "tags": []
          },
          "execution_count": 2
        }
      ]
    },
    {
      "cell_type": "markdown",
      "metadata": {
        "id": "L7bG85TLcNpO",
        "colab_type": "text"
      },
      "source": [
        "We can use negative and regular indexing with a list :"
      ]
    },
    {
      "cell_type": "markdown",
      "metadata": {
        "id": "K3QxjLs3cNpO",
        "colab_type": "text"
      },
      "source": [
        " <a ><img src = \"https://ibm.box.com/shared/static/a7ac9lnvmcaz29n86ffez4as27fl3n9m.png\" width = 1000, align = \"center\"></a>\n",
        "  <h4 align=center> Representation of a list  \n",
        "  </h4> \n"
      ]
    },
    {
      "cell_type": "code",
      "metadata": {
        "id": "m3NH0xKScNpP",
        "colab_type": "code",
        "colab": {
          "base_uri": "https://localhost:8080/",
          "height": 170
        },
        "outputId": "67bb0bb1-bb94-45ef-bfdb-0175c7ca70a9"
      },
      "source": [
        "print('the same element using negative and positive indexing:\\n Postive:',L[0],\n",
        "'\\n Negative:' , L[-3]  )\n",
        "print('the same element using negative and positive indexing:\\n Postive:',L[1],\n",
        "'\\n Negative:' , L[-2]  )\n",
        "print('the same element using negative and positive indexing:\\n Postive:',L[2],\n",
        "'\\n Negative:' , L[-1]  )"
      ],
      "execution_count": 3,
      "outputs": [
        {
          "output_type": "stream",
          "text": [
            "the same element using negative and positive indexing:\n",
            " Postive: Michael Jackson \n",
            " Negative: Michael Jackson\n",
            "the same element using negative and positive indexing:\n",
            " Postive: 10.1 \n",
            " Negative: 10.1\n",
            "the same element using negative and positive indexing:\n",
            " Postive: 1982 \n",
            " Negative: 1982\n"
          ],
          "name": "stdout"
        }
      ]
    },
    {
      "cell_type": "markdown",
      "metadata": {
        "id": "dzR-CNBOcNpR",
        "colab_type": "text"
      },
      "source": [
        "Lists can contain strings, floats, and integers. We can nest other lists, and we can also nest tuples and other data structures. The same indexing conventions apply for nesting:    \n"
      ]
    },
    {
      "cell_type": "code",
      "metadata": {
        "id": "IleR1N6ucNpR",
        "colab_type": "code",
        "colab": {}
      },
      "source": [
        "[ \"Michael Jackson\", 10.1,1982,[1,2],(\"A\",1) ]\n"
      ],
      "execution_count": 0,
      "outputs": []
    },
    {
      "cell_type": "markdown",
      "metadata": {
        "id": "jkx08QpqcNpT",
        "colab_type": "text"
      },
      "source": [
        " We can also perform slicing in lists. For example, if we want the last two elements, we use the following command:"
      ]
    },
    {
      "cell_type": "code",
      "metadata": {
        "id": "ZQIUDOQicNpU",
        "colab_type": "code",
        "colab": {}
      },
      "source": [
        "L = [ \"Michael Jackson\", 10.1,1982,\"MJ\",1]\n",
        "L"
      ],
      "execution_count": 0,
      "outputs": []
    },
    {
      "cell_type": "markdown",
      "metadata": {
        "id": "6VluB49qcNpW",
        "colab_type": "text"
      },
      "source": [
        "\n",
        "<a ><img src = \"https://ibm.box.com/shared/static/pt3pfp1sg5okwuwwpy0dnj8e94fl2mwy.png\" width = 1000, align = \"center\"></a>\n",
        "  <h4 align=center> Representation of a list  \n",
        "  </h4> "
      ]
    },
    {
      "cell_type": "code",
      "metadata": {
        "id": "wel3ND1ucNpW",
        "colab_type": "code",
        "colab": {}
      },
      "source": [
        "L[3:5]"
      ],
      "execution_count": 0,
      "outputs": []
    },
    {
      "cell_type": "markdown",
      "metadata": {
        "id": "IevBPslMcNpb",
        "colab_type": "text"
      },
      "source": [
        "We can use the method \"extend\" to add new elements to the list:"
      ]
    },
    {
      "cell_type": "code",
      "metadata": {
        "id": "buMBv5k1cNpb",
        "colab_type": "code",
        "colab": {
          "base_uri": "https://localhost:8080/",
          "height": 34
        },
        "outputId": "14b5bde4-ada2-4160-eaf7-e8a4a2f12f93"
      },
      "source": [
        "L = [ \"Michael Jackson\", 10.2]\n",
        "L.extend(['pop',10])\n",
        "L"
      ],
      "execution_count": 4,
      "outputs": [
        {
          "output_type": "execute_result",
          "data": {
            "text/plain": [
              "['Michael Jackson', 10.2, 'pop', 10]"
            ]
          },
          "metadata": {
            "tags": []
          },
          "execution_count": 4
        }
      ]
    },
    {
      "cell_type": "markdown",
      "metadata": {
        "id": "tf0I_VLdcNpd",
        "colab_type": "text"
      },
      "source": [
        "Another similar method is 'appended'. If we apply 'appended' instead of 'extended', we add one element to the list:"
      ]
    },
    {
      "cell_type": "code",
      "metadata": {
        "id": "xOZs9xFocNpe",
        "colab_type": "code",
        "colab": {
          "base_uri": "https://localhost:8080/",
          "height": 34
        },
        "outputId": "fbf5fcfa-e915-4fee-be7f-440b35bb1a98"
      },
      "source": [
        "L = [ \"Michael Jackson\", 10.2]\n",
        "L.append(['pop',10])\n",
        "L"
      ],
      "execution_count": 5,
      "outputs": [
        {
          "output_type": "execute_result",
          "data": {
            "text/plain": [
              "['Michael Jackson', 10.2, ['pop', 10]]"
            ]
          },
          "metadata": {
            "tags": []
          },
          "execution_count": 5
        }
      ]
    },
    {
      "cell_type": "markdown",
      "metadata": {
        "id": "UB1i1Er2cNpf",
        "colab_type": "text"
      },
      "source": [
        " Each time we apply a method, the list changes. If we apply \"extend\" we add two new elements to the list. The list **L** is then modified by adding two new elements:"
      ]
    },
    {
      "cell_type": "code",
      "metadata": {
        "id": "Ggj3eFm4cNpg",
        "colab_type": "code",
        "colab": {
          "base_uri": "https://localhost:8080/",
          "height": 34
        },
        "outputId": "8f6759a4-ef50-46d8-fdfb-73847e199410"
      },
      "source": [
        "L = [ \"Michael Jackson\", 10.2]\n",
        "L.extend(['pop',10])\n",
        "L"
      ],
      "execution_count": 6,
      "outputs": [
        {
          "output_type": "execute_result",
          "data": {
            "text/plain": [
              "['Michael Jackson', 10.2, 'pop', 10]"
            ]
          },
          "metadata": {
            "tags": []
          },
          "execution_count": 6
        }
      ]
    },
    {
      "cell_type": "markdown",
      "metadata": {
        "id": "0kkCQ8oVcNph",
        "colab_type": "text"
      },
      "source": [
        "If we append the list  **['a','b']** we have one new element consisting of a nested list:"
      ]
    },
    {
      "cell_type": "code",
      "metadata": {
        "id": "QMtc5wyscNpi",
        "colab_type": "code",
        "colab": {
          "base_uri": "https://localhost:8080/",
          "height": 34
        },
        "outputId": "a14db7a0-c693-47b6-e67f-d8df6b363010"
      },
      "source": [
        "L.append(['a','b'])\n",
        "L"
      ],
      "execution_count": 7,
      "outputs": [
        {
          "output_type": "execute_result",
          "data": {
            "text/plain": [
              "['Michael Jackson', 10.2, 'pop', 10, ['a', 'b']]"
            ]
          },
          "metadata": {
            "tags": []
          },
          "execution_count": 7
        }
      ]
    },
    {
      "cell_type": "markdown",
      "metadata": {
        "id": "wnWucSCvcNpj",
        "colab_type": "text"
      },
      "source": [
        "As lists are mutable, we can change them. For example, we can change the first element as follows:"
      ]
    },
    {
      "cell_type": "code",
      "metadata": {
        "id": "kSH6A3s4cNpk",
        "colab_type": "code",
        "colab": {
          "base_uri": "https://localhost:8080/",
          "height": 51
        },
        "outputId": "c31d4fd6-7c2c-435c-86d8-206363176ed3"
      },
      "source": [
        "A = [\"disco\",10,1.2]\n",
        "print('Before change:', A)\n",
        "A[0] = 'hard rock'\n",
        "print('After change:', A)"
      ],
      "execution_count": 8,
      "outputs": [
        {
          "output_type": "stream",
          "text": [
            "Before change: ['disco', 10, 1.2]\n",
            "After change: ['hard rock', 10, 1.2]\n"
          ],
          "name": "stdout"
        }
      ]
    },
    {
      "cell_type": "markdown",
      "metadata": {
        "id": "mUbTAdpmcNpm",
        "colab_type": "text"
      },
      "source": [
        " We can also delete an element of a list using the **del** command:"
      ]
    },
    {
      "cell_type": "code",
      "metadata": {
        "id": "b5uMzczscNpm",
        "colab_type": "code",
        "colab": {
          "base_uri": "https://localhost:8080/",
          "height": 51
        },
        "outputId": "2fad29a0-b664-4d2c-a622-0477b56fda14"
      },
      "source": [
        "print('Before change:', A)\n",
        "del(A[0])\n",
        "print('After change:', A)"
      ],
      "execution_count": 9,
      "outputs": [
        {
          "output_type": "stream",
          "text": [
            "Before change: ['hard rock', 10, 1.2]\n",
            "After change: [10, 1.2]\n"
          ],
          "name": "stdout"
        }
      ]
    },
    {
      "cell_type": "markdown",
      "metadata": {
        "id": "lQeSHTmGcNpo",
        "colab_type": "text"
      },
      "source": [
        " We can convert a string to a list using 'split'.  For example, the method **split** translates every group of characters separated by a space into an element in a list:\n"
      ]
    },
    {
      "cell_type": "code",
      "metadata": {
        "id": "bJN4L-LlcNpo",
        "colab_type": "code",
        "colab": {
          "base_uri": "https://localhost:8080/",
          "height": 34
        },
        "outputId": "f98444cc-8456-4441-d8c3-3f2fa968da69"
      },
      "source": [
        "'hard rock'.split()\n"
      ],
      "execution_count": 10,
      "outputs": [
        {
          "output_type": "execute_result",
          "data": {
            "text/plain": [
              "['hard', 'rock']"
            ]
          },
          "metadata": {
            "tags": []
          },
          "execution_count": 10
        }
      ]
    },
    {
      "cell_type": "markdown",
      "metadata": {
        "id": "PjISyTRlcNpq",
        "colab_type": "text"
      },
      "source": [
        "We can use the split function to separate strings on a specific character. We pass the character we would like to split on into the argument, which in this case is a comma.  The result is a list, and each element corresponds to a set of characters that have been separated by a comma: "
      ]
    },
    {
      "cell_type": "code",
      "metadata": {
        "id": "yvt4jNkhcNpr",
        "colab_type": "code",
        "colab": {}
      },
      "source": [
        "'A,B,C,D'.split(',')\n"
      ],
      "execution_count": 0,
      "outputs": []
    },
    {
      "cell_type": "markdown",
      "metadata": {
        "id": "4DduluWLcNpu",
        "colab_type": "text"
      },
      "source": [
        " When we set one variable  **B** equal to **A**;  both **A** and **B** are referencing the same list in memory :"
      ]
    },
    {
      "cell_type": "code",
      "metadata": {
        "id": "C3040L9ycNpv",
        "colab_type": "code",
        "colab": {
          "base_uri": "https://localhost:8080/",
          "height": 51
        },
        "outputId": "85b74261-be8f-4db8-b056-cd61b750021a"
      },
      "source": [
        "A = [\"hard rock\",10,1.2]\n",
        "B = A\n",
        "print('A:', A)\n",
        "print('B:', B)"
      ],
      "execution_count": 12,
      "outputs": [
        {
          "output_type": "stream",
          "text": [
            "A: ['hard rock', 10, 1.2]\n",
            "B: ['hard rock', 10, 1.2]\n"
          ],
          "name": "stdout"
        }
      ]
    },
    {
      "cell_type": "markdown",
      "metadata": {
        "id": "PbWVDTIwcNpw",
        "colab_type": "text"
      },
      "source": [
        " <a ><img src = 'https://ibm.box.com/shared/static/7g2u8hqqb4birdwn7m9uir4s9wfj8mko.png' width = 1000, align = \"center\"></a>\n",
        "  "
      ]
    },
    {
      "cell_type": "markdown",
      "metadata": {
        "id": "vuyKWXmHcNpx",
        "colab_type": "text"
      },
      "source": [
        " Initially, the value of the first element in ** B** is set as hard rock. If we change the first element in **A**  to 'banana', we get an unexpected side effect.  As **A** and **B ** are referencing the same list, if we change list **A**, then list **B** also changes.  If we check the first element of **B** we get banana instead of hard rock:"
      ]
    },
    {
      "cell_type": "code",
      "metadata": {
        "id": "a-QihOqKcNpx",
        "colab_type": "code",
        "colab": {
          "base_uri": "https://localhost:8080/",
          "height": 68
        },
        "outputId": "b172eefb-93ef-4686-ca52-d6da168d1f91"
      },
      "source": [
        "print('Before changing A[0], B[0] is ',B[0])\n",
        "A[0] = \"banana\"\n",
        "print('After changing A[0], A[0] is ',A[0])\n",
        "print('After changing A[0], B[0] is ',B[0])"
      ],
      "execution_count": 13,
      "outputs": [
        {
          "output_type": "stream",
          "text": [
            "Before changing A[0], B[0] is  hard rock\n",
            "After changing A[0], A[0] is  banana\n",
            "After changing A[0], B[0] is  banana\n"
          ],
          "name": "stdout"
        }
      ]
    },
    {
      "cell_type": "markdown",
      "metadata": {
        "id": "gR5dGRBhcNpz",
        "colab_type": "text"
      },
      "source": [
        "This is demonstrated in the following figure: "
      ]
    },
    {
      "cell_type": "markdown",
      "metadata": {
        "id": "w0bBTVAkcNpz",
        "colab_type": "text"
      },
      "source": [
        " <a ><img src = https://ibm.box.com/shared/static/thdu6y5pzh99qpun4tu2fjvj86st0hbu.gif width = 1000, align = \"center\"></a>\n",
        "\n",
        "\n"
      ]
    },
    {
      "cell_type": "markdown",
      "metadata": {
        "id": "cW-1P13acNp0",
        "colab_type": "text"
      },
      "source": [
        "You can clone list  **A** by using  the following syntax:"
      ]
    },
    {
      "cell_type": "code",
      "metadata": {
        "id": "d04NH2yQcNp1",
        "colab_type": "code",
        "colab": {
          "base_uri": "https://localhost:8080/",
          "height": 34
        },
        "outputId": "677c1aba-a19d-4619-a7ec-c8a2a1e907f1"
      },
      "source": [
        "B = A[:]\n",
        "B"
      ],
      "execution_count": 14,
      "outputs": [
        {
          "output_type": "execute_result",
          "data": {
            "text/plain": [
              "['banana', 10, 1.2]"
            ]
          },
          "metadata": {
            "tags": []
          },
          "execution_count": 14
        }
      ]
    },
    {
      "cell_type": "markdown",
      "metadata": {
        "id": "VGCSRNG9cNp3",
        "colab_type": "text"
      },
      "source": [
        " Variable **B** references a new copy or clone of the original list; this is demonstrated in the following figure:"
      ]
    },
    {
      "cell_type": "markdown",
      "metadata": {
        "id": "ZZXmtVgscNp4",
        "colab_type": "text"
      },
      "source": [
        "\n",
        " <a ><img src = https://ibm.box.com/shared/static/gwx86gaoeizqjvx7xj96cb8i9hn684ei.gif width = 1000, align = \"center\"></a>\n",
        "\n",
        "\n"
      ]
    },
    {
      "cell_type": "markdown",
      "metadata": {
        "id": "FjMSDRTIcNp4",
        "colab_type": "text"
      },
      "source": [
        "Now if you change **A**, **B** will not change: \n"
      ]
    },
    {
      "cell_type": "code",
      "metadata": {
        "id": "abydtf_gcNp5",
        "colab_type": "code",
        "colab": {
          "base_uri": "https://localhost:8080/",
          "height": 68
        },
        "outputId": "7d44c46f-1ddf-4743-9143-19d41ee06e31"
      },
      "source": [
        "print('Before changing A[0], B[0] is ',B[0])\n",
        "A[0] = \"apple\"\n",
        "print('After changing A[0], A[0] is ',A[0])\n",
        "print('After changing A[0], B[0] is ',B[0])"
      ],
      "execution_count": 15,
      "outputs": [
        {
          "output_type": "stream",
          "text": [
            "Before changing A[0], B[0] is  banana\n",
            "After changing A[0], A[0] is  apple\n",
            "After changing A[0], B[0] is  banana\n"
          ],
          "name": "stdout"
        }
      ]
    },
    {
      "cell_type": "code",
      "metadata": {
        "id": "DIF9Rqc3cNp6",
        "colab_type": "code",
        "colab": {}
      },
      "source": [
        ""
      ],
      "execution_count": 0,
      "outputs": []
    },
    {
      "cell_type": "markdown",
      "metadata": {
        "id": "vhiorL_9cNp7",
        "colab_type": "text"
      },
      "source": [
        " <a id=\"ref2\"></a>\n",
        "<center><h2>Quiz</h2></center>"
      ]
    },
    {
      "cell_type": "markdown",
      "metadata": {
        "id": "uZ0CEgOccNp8",
        "colab_type": "text"
      },
      "source": [
        "#### Create a list 'a_list' , with the following elements 1, “hello”, [1,2,3 ] and True. "
      ]
    },
    {
      "cell_type": "code",
      "metadata": {
        "id": "vCzVvj_JcNp8",
        "colab_type": "code",
        "colab": {
          "base_uri": "https://localhost:8080/",
          "height": 34
        },
        "outputId": "d58ae226-5545-48f3-e556-c4ade76608f5"
      },
      "source": [
        "l = [1, \"hello\", [1,2,3], True]\n",
        "l"
      ],
      "execution_count": 16,
      "outputs": [
        {
          "output_type": "execute_result",
          "data": {
            "text/plain": [
              "[1, 'hello', [1, 2, 3], True]"
            ]
          },
          "metadata": {
            "tags": []
          },
          "execution_count": 16
        }
      ]
    },
    {
      "cell_type": "markdown",
      "metadata": {
        "id": "3QR21AdUcNp-",
        "colab_type": "text"
      },
      "source": [
        "####  Find the value stored at index 1 of 'a_list'."
      ]
    },
    {
      "cell_type": "code",
      "metadata": {
        "id": "Piu77NVzcNp_",
        "colab_type": "code",
        "colab": {
          "base_uri": "https://localhost:8080/",
          "height": 34
        },
        "outputId": "9c744221-efb2-420d-c256-9ef5025deb26"
      },
      "source": [
        "print(l[0])"
      ],
      "execution_count": 24,
      "outputs": [
        {
          "output_type": "stream",
          "text": [
            "1\n"
          ],
          "name": "stdout"
        }
      ]
    },
    {
      "cell_type": "markdown",
      "metadata": {
        "id": "wSsNj_48cNqB",
        "colab_type": "text"
      },
      "source": [
        "####  Retrieve the elements stored at index 1 and 2 of 'a_list'."
      ]
    },
    {
      "cell_type": "code",
      "metadata": {
        "id": "Omt3SdWhcNqB",
        "colab_type": "code",
        "colab": {
          "base_uri": "https://localhost:8080/",
          "height": 34
        },
        "outputId": "8e8359fc-2227-432e-f80e-327b289351be"
      },
      "source": [
        "del(l[0])\n",
        "del(l[1])\n",
        "print(l)"
      ],
      "execution_count": 25,
      "outputs": [
        {
          "output_type": "stream",
          "text": [
            "['hello', True]\n"
          ],
          "name": "stdout"
        }
      ]
    },
    {
      "cell_type": "markdown",
      "metadata": {
        "id": "kOU8Pag-cNqD",
        "colab_type": "text"
      },
      "source": [
        "#### 4) Concatenate the following lists A=[1,'a'] abd B=[2,1,'d']:"
      ]
    },
    {
      "cell_type": "code",
      "metadata": {
        "id": "b9vQgYAqcNqE",
        "colab_type": "code",
        "colab": {
          "base_uri": "https://localhost:8080/",
          "height": 34
        },
        "outputId": "f695cee5-e8ed-49de-be99-bfafe1c98841"
      },
      "source": [
        "A=[1,\"a\"]\n",
        "B=[2,1,\"d\"]\n",
        "A\n",
        "B\n"
      ],
      "execution_count": 26,
      "outputs": [
        {
          "output_type": "execute_result",
          "data": {
            "text/plain": [
              "[2, 1, 'd']"
            ]
          },
          "metadata": {
            "tags": []
          },
          "execution_count": 26
        }
      ]
    },
    {
      "cell_type": "code",
      "metadata": {
        "id": "uidcQTBQn-Pr",
        "colab_type": "code",
        "colab": {
          "base_uri": "https://localhost:8080/",
          "height": 34
        },
        "outputId": "a91e1a43-070c-4a44-9420-c5ab59ada629"
      },
      "source": [
        "C=A+B\n",
        "print(C)"
      ],
      "execution_count": 27,
      "outputs": [
        {
          "output_type": "stream",
          "text": [
            "[1, 'a', 2, 1, 'd']\n"
          ],
          "name": "stdout"
        }
      ]
    }
  ]
}