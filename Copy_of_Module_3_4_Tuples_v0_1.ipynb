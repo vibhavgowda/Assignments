{
  "nbformat": 4,
  "nbformat_minor": 0,
  "metadata": {
    "colab": {
      "name": "Copy of Module_3.4_Tuples_v0.1.ipynb",
      "version": "0.3.2",
      "provenance": [],
      "collapsed_sections": [],
      "include_colab_link": true
    },
    "language_info": {
      "codemirror_mode": {
        "name": "ipython",
        "version": 3
      },
      "file_extension": ".py",
      "mimetype": "text/x-python",
      "name": "python",
      "nbconvert_exporter": "python",
      "pygments_lexer": "ipython3",
      "version": "3.5.2"
    },
    "kernelspec": {
      "display_name": "Python 3",
      "language": "python",
      "name": "python3"
    }
  },
  "cells": [
    {
      "cell_type": "markdown",
      "metadata": {
        "id": "view-in-github",
        "colab_type": "text"
      },
      "source": [
        "<a href=\"https://colab.research.google.com/github/vibhavgowda/case1/blob/master/Copy_of_Module_3_4_Tuples_v0_1.ipynb\" target=\"_parent\"><img src=\"https://colab.research.google.com/assets/colab-badge.svg\" alt=\"Open In Colab\"/></a>"
      ]
    },
    {
      "cell_type": "markdown",
      "metadata": {
        "id": "ygxPpe_abRRZ",
        "colab_type": "text"
      },
      "source": [
        "#TUPLES IN PYTHON"
      ]
    },
    {
      "cell_type": "markdown",
      "metadata": {
        "id": "BnJgDLbjbRRZ",
        "colab_type": "text"
      },
      "source": [
        "<a id=\"ref0\"></a>\n",
        "<center><h2>About the Dataset</h2></center>"
      ]
    },
    {
      "cell_type": "markdown",
      "metadata": {
        "id": "3eFJ5XghbRRa",
        "colab_type": "text"
      },
      "source": [
        "\n",
        "## Table of Contents\n",
        "\n",
        "\n",
        "<div class=\"alert alert-block alert-info\" style=\"margin-top: 20px\">\n",
        "<li><a href=\"#ref0\">About the Dataset</a></li>\n",
        "<li><a href=\"#ref1\">Tuples</a></li>\n",
        "<li><a href=\"#ref2\">Quiz on Tuples</a></li>\n",
        "\n",
        "<p></p>\n",
        "Estimated Time Needed: <strong>15 min</strong>\n",
        "</div>\n",
        "\n",
        "<hr>"
      ]
    },
    {
      "cell_type": "markdown",
      "metadata": {
        "id": "BlIW2UMQbRRa",
        "colab_type": "text"
      },
      "source": [
        "Imagine you received album recommendations from your friends and compiled all of the recomendations into a table, with specific information about each album.\n",
        "\n",
        "The table has one row for each movie and several columns:\n",
        "\n",
        "- **artist** - Name of the artist\n",
        "- **album** - Name of the album\n",
        "- **released_year** - Year the album was released\n",
        "- **length_min_sec** - Length of the album (hours,minutes,seconds)\n",
        "- **genre** - Genre of the album\n",
        "- **music_recording_sales_millions** - Music recording sales (millions in USD) on [SONG://DATABASE](http://www.song-database.com/)\n",
        "- **claimed_sales_millions** - Album's claimed sales (millions in USD) on [SONG://DATABASE](http://www.song-database.com/)\n",
        "- **date_released** - Date on which the album was released\n",
        "- **soundtrack** - Indicates if the album is the movie soundtrack (Y) or (N)\n",
        "- **rating_of_friends** - Indicates the rating from your friends from 1 to 10\n",
        "<br>\n",
        "<br>\n",
        "\n",
        "The dataset can be seen below:\n",
        "\n",
        "<font size=\"1\">\n",
        "<table font-size:xx-small style=\"width:25%\">\n",
        "  <tr>\n",
        "    <th>Artist</th>\n",
        "    <th>Album</th> \n",
        "    <th>Released</th>\n",
        "    <th>Length</th>\n",
        "    <th>Genre</th> \n",
        "    <th>Music recording sales (millions)</th>\n",
        "    <th>Claimed sales (millions)</th>\n",
        "    <th>Released</th>\n",
        "    <th>Soundtrack</th>\n",
        "    <th>Rating (friends)</th>\n",
        "  </tr>\n",
        "  <tr>\n",
        "    <td>Michael Jackson</td>\n",
        "    <td>Thriller</td> \n",
        "    <td>1982</td>\n",
        "    <td>00:42:19</td>\n",
        "    <td>Pop, rock, R&B</td>\n",
        "    <td>46</td>\n",
        "    <td>65</td>\n",
        "    <td>30-Nov-82</td>\n",
        "    <td></td>\n",
        "    <td>10.0</td>\n",
        "  </tr>\n",
        "  <tr>\n",
        "    <td>AC/DC</td>\n",
        "    <td>Back in Black</td> \n",
        "    <td>1980</td>\n",
        "    <td>00:42:11</td>\n",
        "    <td>Hard rock</td>\n",
        "    <td>26.1</td>\n",
        "    <td>50</td>\n",
        "    <td>25-Jul-80</td>\n",
        "    <td></td>\n",
        "    <td>8.5</td>\n",
        "  </tr>\n",
        "    <tr>\n",
        "    <td>Pink Floyd</td>\n",
        "    <td>The Dark Side of the Moon</td> \n",
        "    <td>1973</td>\n",
        "    <td>00:42:49</td>\n",
        "    <td>Progressive rock</td>\n",
        "    <td>24.2</td>\n",
        "    <td>45</td>\n",
        "    <td>01-Mar-73</td>\n",
        "    <td></td>\n",
        "    <td>9.5</td>\n",
        "  </tr>\n",
        "    <tr>\n",
        "    <td>Whitney Houston</td>\n",
        "    <td>The Bodyguard</td> \n",
        "    <td>1992</td>\n",
        "    <td>00:57:44</td>\n",
        "    <td>Soundtrack/R&B, soul, pop</td>\n",
        "    <td>26.1</td>\n",
        "    <td>50</td>\n",
        "    <td>25-Jul-80</td>\n",
        "    <td>Y</td>\n",
        "    <td>7.0</td>\n",
        "  </tr>\n",
        "    <tr>\n",
        "    <td>Meat Loaf</td>\n",
        "    <td>Bat Out of Hell</td> \n",
        "    <td>1977</td>\n",
        "    <td>00:46:33</td>\n",
        "    <td>Hard rock, progressive rock</td>\n",
        "    <td>20.6</td>\n",
        "    <td>43</td>\n",
        "    <td>21-Oct-77</td>\n",
        "    <td></td>\n",
        "    <td>7.0</td>\n",
        "  </tr>\n",
        "    <tr>\n",
        "    <td>Eagles</td>\n",
        "    <td>Their Greatest Hits (1971-1975)</td> \n",
        "    <td>1976</td>\n",
        "    <td>00:43:08</td>\n",
        "    <td>Rock, soft rock, folk rock</td>\n",
        "    <td>32.2</td>\n",
        "    <td>42</td>\n",
        "    <td>17-Feb-76</td>\n",
        "    <td></td>\n",
        "    <td>9.5</td>\n",
        "  </tr>\n",
        "    <tr>\n",
        "    <td>Bee Gees</td>\n",
        "    <td>Saturday Night Fever</td> \n",
        "    <td>1977</td>\n",
        "    <td>1:15:54</td>\n",
        "    <td>Disco</td>\n",
        "    <td>20.6</td>\n",
        "    <td>40</td>\n",
        "    <td>15-Nov-77</td>\n",
        "    <td>Y</td>\n",
        "    <td>9.0</td>\n",
        "  </tr>\n",
        "    <tr>\n",
        "    <td>Fleetwood Mac</td>\n",
        "    <td>Rumours</td> \n",
        "    <td>1977</td>\n",
        "    <td>00:40:01</td>\n",
        "    <td>Soft rock</td>\n",
        "    <td>27.9</td>\n",
        "    <td>40</td>\n",
        "    <td>04-Feb-77</td>\n",
        "    <td></td>\n",
        "    <td>9.5</td>\n",
        "  </tr>\n",
        "</table></font>"
      ]
    },
    {
      "cell_type": "markdown",
      "metadata": {
        "id": "MyP6jgIObRRb",
        "colab_type": "text"
      },
      "source": [
        "<hr>"
      ]
    },
    {
      "cell_type": "markdown",
      "metadata": {
        "id": "af07U9ilbRRb",
        "colab_type": "text"
      },
      "source": [
        "<a id=\"ref1\"></a>\n",
        "<center><h2>Tuples</h2></center>\n",
        "\n",
        "In Python, there are different data types: string, integer and float. These data types can all be contained in a tuple as follows:\n",
        "\n"
      ]
    },
    {
      "cell_type": "markdown",
      "metadata": {
        "id": "Bw3MOhWubRRc",
        "colab_type": "text"
      },
      "source": [
        "<img src = \"https://ibm.box.com/shared/static/t2jw5ia78ulp8twr71j6q7055hykz10c.png\" width = 750, align = \"center\"></a>\n",
        "\n"
      ]
    },
    {
      "cell_type": "code",
      "metadata": {
        "id": "7VEtChQMbRRd",
        "colab_type": "code",
        "colab": {}
      },
      "source": [
        "tuple1=(\"disco\",10,1.2 )\n",
        "tuple1"
      ],
      "execution_count": 0,
      "outputs": []
    },
    {
      "cell_type": "markdown",
      "metadata": {
        "id": "Cd4av6csbRRg",
        "colab_type": "text"
      },
      "source": [
        "The type of variable is a **tuple**. "
      ]
    },
    {
      "cell_type": "code",
      "metadata": {
        "id": "QBZO75eJbRRg",
        "colab_type": "code",
        "colab": {}
      },
      "source": [
        " type(tuple1)"
      ],
      "execution_count": 0,
      "outputs": []
    },
    {
      "cell_type": "markdown",
      "metadata": {
        "id": "JJtJMNqZbRRk",
        "colab_type": "text"
      },
      "source": [
        " Each element of a tuple can be accessed via an index. The following table represents the relationship between the index and the items in the tuple. Each element can be obtained by the name of the tuple followed by a square bracket with the index number:"
      ]
    },
    {
      "cell_type": "markdown",
      "metadata": {
        "id": "9NS5RoBubRRk",
        "colab_type": "text"
      },
      "source": [
        "<img src = \"https://ibm.box.com/shared/static/83kpang0opwen5e5gbwck6ktqw7btwoe.gif\" width = 750, align = \"center\"></a>\n",
        "\n"
      ]
    },
    {
      "cell_type": "markdown",
      "metadata": {
        "id": "b88UCHoVbRRl",
        "colab_type": "text"
      },
      "source": [
        "We can print out each value in the tuple:"
      ]
    },
    {
      "cell_type": "code",
      "metadata": {
        "id": "Nnz9C02ybRRl",
        "colab_type": "code",
        "colab": {}
      },
      "source": [
        "print( tuple1[0])\n",
        "print( tuple1[1])\n",
        "print( tuple1[2])"
      ],
      "execution_count": 0,
      "outputs": []
    },
    {
      "cell_type": "markdown",
      "metadata": {
        "id": "8EurjyWUbRRn",
        "colab_type": "text"
      },
      "source": [
        "We can print out the **type** of each value in the tuple:\n"
      ]
    },
    {
      "cell_type": "code",
      "metadata": {
        "id": "NT79AN8HbRRn",
        "colab_type": "code",
        "colab": {}
      },
      "source": [
        "print( type(tuple1[0]))\n",
        "print( type(tuple1[1]))\n",
        "print( type(tuple1[2]))"
      ],
      "execution_count": 0,
      "outputs": []
    },
    {
      "cell_type": "markdown",
      "metadata": {
        "id": "fQudXYHfbRRp",
        "colab_type": "text"
      },
      "source": [
        "We can also use negative indexing. We use the same table above with corresponding negative values:"
      ]
    },
    {
      "cell_type": "markdown",
      "metadata": {
        "id": "gRjbc57VbRRq",
        "colab_type": "text"
      },
      "source": [
        " <img src = \"https://ibm.box.com/shared/static/uwlfzo367bekwg0p5s5odxlz7vhpojyj.png\" width = 750, align = \"center\"></a>\n"
      ]
    },
    {
      "cell_type": "markdown",
      "metadata": {
        "id": "WBob6AO3bRRr",
        "colab_type": "text"
      },
      "source": [
        "We can obtain the last element as follows (this time we will not use the print statement to display the values):"
      ]
    },
    {
      "cell_type": "code",
      "metadata": {
        "id": "XpwYEQ9kbRRs",
        "colab_type": "code",
        "colab": {}
      },
      "source": [
        "tuple1[-1]"
      ],
      "execution_count": 0,
      "outputs": []
    },
    {
      "cell_type": "markdown",
      "metadata": {
        "id": "pEZUkX6bbRRu",
        "colab_type": "text"
      },
      "source": [
        "We can display the next two elements as follows:"
      ]
    },
    {
      "cell_type": "code",
      "metadata": {
        "id": "xTr3Yx7VbRRv",
        "colab_type": "code",
        "colab": {}
      },
      "source": [
        "tuple1[-2]"
      ],
      "execution_count": 0,
      "outputs": []
    },
    {
      "cell_type": "code",
      "metadata": {
        "id": "KEuDhU0KbRRx",
        "colab_type": "code",
        "colab": {}
      },
      "source": [
        "tuple1[-3]"
      ],
      "execution_count": 0,
      "outputs": []
    },
    {
      "cell_type": "markdown",
      "metadata": {
        "id": "qi4WWSvmbRR0",
        "colab_type": "text"
      },
      "source": [
        "We can concatenate or combine tuples by using the **+** sign:"
      ]
    },
    {
      "cell_type": "code",
      "metadata": {
        "id": "NKCVERWYbRR1",
        "colab_type": "code",
        "colab": {}
      },
      "source": [
        "tuple2=tuple1+(\"hard rock\", 10)\n",
        "tuple2"
      ],
      "execution_count": 0,
      "outputs": []
    },
    {
      "cell_type": "markdown",
      "metadata": {
        "id": "GJAuU_dKbRR3",
        "colab_type": "text"
      },
      "source": [
        "We can slice tuples obtaining multiple values as demonstrated by the figure below:"
      ]
    },
    {
      "cell_type": "markdown",
      "metadata": {
        "id": "PJpj59jibRR3",
        "colab_type": "text"
      },
      "source": [
        "<img src = \"https://ibm.box.com/shared/static/s9nofy728bcnsgnx3vh159bu16w7frnc.gif\" width = 750, align = \"center\"></a>\n"
      ]
    },
    {
      "cell_type": "markdown",
      "metadata": {
        "id": "OgZUszvObRR4",
        "colab_type": "text"
      },
      "source": [
        "We can slice tuples, obtaining new tuples with the corresponding elements: "
      ]
    },
    {
      "cell_type": "code",
      "metadata": {
        "id": "mzhbTHvTbRR5",
        "colab_type": "code",
        "colab": {}
      },
      "source": [
        "tuple2[0:3]"
      ],
      "execution_count": 0,
      "outputs": []
    },
    {
      "cell_type": "markdown",
      "metadata": {
        "id": "U08Dzu6vbRR7",
        "colab_type": "text"
      },
      "source": [
        "We can obtain the last two elements of the tuple:"
      ]
    },
    {
      "cell_type": "code",
      "metadata": {
        "id": "Ph3pAVd8bRR7",
        "colab_type": "code",
        "colab": {}
      },
      "source": [
        "tuple2[3:5]"
      ],
      "execution_count": 0,
      "outputs": []
    },
    {
      "cell_type": "markdown",
      "metadata": {
        "id": "gry52-QkbRR9",
        "colab_type": "text"
      },
      "source": [
        "We can obtain the length of a tuple using the length command: "
      ]
    },
    {
      "cell_type": "code",
      "metadata": {
        "id": "_zX2id-pbRR-",
        "colab_type": "code",
        "colab": {}
      },
      "source": [
        "len(tuple2)"
      ],
      "execution_count": 0,
      "outputs": []
    },
    {
      "cell_type": "markdown",
      "metadata": {
        "id": "rd8cNbdibRSA",
        "colab_type": "text"
      },
      "source": [
        "This figure shows the number of elements:"
      ]
    },
    {
      "cell_type": "markdown",
      "metadata": {
        "id": "c-TgHugcbRSB",
        "colab_type": "text"
      },
      "source": [
        "\n",
        "<img src = \"https://ibm.box.com/shared/static/apxe8l3w42f597yjhizg305merlm4ijf.png\" width = 750, align = \"center\"></a>\n"
      ]
    },
    {
      "cell_type": "markdown",
      "metadata": {
        "id": "C9_Lf521bRSB",
        "colab_type": "text"
      },
      "source": [
        " Consider the following tuple:"
      ]
    },
    {
      "cell_type": "code",
      "metadata": {
        "id": "MFeOMSPRbRSC",
        "colab_type": "code",
        "colab": {}
      },
      "source": [
        "Ratings  =(0,9,6,5,10,8,9,6,2)"
      ],
      "execution_count": 0,
      "outputs": []
    },
    {
      "cell_type": "markdown",
      "metadata": {
        "id": "Smwsf-TibRSG",
        "colab_type": "text"
      },
      "source": [
        " We can assign the tuple to a 2nd variable:\n",
        " "
      ]
    },
    {
      "cell_type": "code",
      "metadata": {
        "id": "g6FUxZbNbRSG",
        "colab_type": "code",
        "colab": {}
      },
      "source": [
        "Ratings1=Ratings\n",
        "Ratings"
      ],
      "execution_count": 0,
      "outputs": []
    },
    {
      "cell_type": "markdown",
      "metadata": {
        "id": "V3V4J3AnbRSI",
        "colab_type": "text"
      },
      "source": [
        "We can sort the values in a tuple and save it to a new tuple: "
      ]
    },
    {
      "cell_type": "code",
      "metadata": {
        "id": "IUMGQQPCbRSJ",
        "colab_type": "code",
        "colab": {}
      },
      "source": [
        "RatingsSorted=sorted(Ratings )\n",
        "RatingsSorted"
      ],
      "execution_count": 0,
      "outputs": []
    },
    {
      "cell_type": "markdown",
      "metadata": {
        "id": "8gGGGBPwbRSL",
        "colab_type": "text"
      },
      "source": [
        "A tuple can contain another tuple as well as other more complex data types.  This process is called 'nesting'. Consider the following tuple with several elements: "
      ]
    },
    {
      "cell_type": "code",
      "metadata": {
        "id": "MYIJ4n9_bRSM",
        "colab_type": "code",
        "colab": {}
      },
      "source": [
        "NestedT =(1, 2, (\"pop\", \"rock\") ,(3,4),(\"disco\",(1,2)))"
      ],
      "execution_count": 0,
      "outputs": []
    },
    {
      "cell_type": "markdown",
      "metadata": {
        "id": "gbhyKRMnbRSO",
        "colab_type": "text"
      },
      "source": [
        "Each element in the tuple including other tuples can be obtained via an index as shown in the figure:"
      ]
    },
    {
      "cell_type": "markdown",
      "metadata": {
        "id": "tx2tZvZgbRSO",
        "colab_type": "text"
      },
      "source": [
        "<img src = \"https://ibm.box.com/shared/static/estqe2bczv5weocc4ag4mx9dtqy952fp.png\" width = 750, align = \"center\"></a>\n"
      ]
    },
    {
      "cell_type": "code",
      "metadata": {
        "id": "DpQ-_D7kbRSP",
        "colab_type": "code",
        "colab": {}
      },
      "source": [
        "print(\"Element 0 of Tuple: \",   NestedT[0])\n",
        "print(\"Element 1 of Tuple: \",  NestedT[1])\n",
        "print(\"Element 2 of Tuple: \",  NestedT[2])\n",
        "print(\"Element 3 of Tuple: \", NestedT[3])\n",
        "print(\"Element 4 of Tuple: \", NestedT[4])"
      ],
      "execution_count": 0,
      "outputs": []
    },
    {
      "cell_type": "markdown",
      "metadata": {
        "id": "SMTl8VwpbRSQ",
        "colab_type": "text"
      },
      "source": [
        "We can use the second index to access other tuples as demonstrated in the figure:"
      ]
    },
    {
      "cell_type": "markdown",
      "metadata": {
        "id": "v2fjjYQvbRSR",
        "colab_type": "text"
      },
      "source": [
        "<img src = \"https://ibm.box.com/shared/static/j1orgjuasaaj3d0feymedrnoqv8trqyo.png\" width = 750, align = \"center\"></a>\n"
      ]
    },
    {
      "cell_type": "markdown",
      "metadata": {
        "id": "dGHir500bRSR",
        "colab_type": "text"
      },
      "source": [
        " We can access the nested tuples :"
      ]
    },
    {
      "cell_type": "code",
      "metadata": {
        "id": "ExV2bUPTbRSS",
        "colab_type": "code",
        "colab": {}
      },
      "source": [
        "print(\"Element 2,0 of Tuple: \",   NestedT[2][0])\n",
        "print(\"Element 2,1 of Tuple: \",   NestedT[2][1])\n",
        "print(\"Element 3,0 of Tuple: \",   NestedT[3][0])\n",
        "print(\"Element 3,1 of Tuple: \",   NestedT[3][1])\n",
        "print(\"Element 4,0 of Tuple: \",   NestedT[4][0])\n",
        "print(\"Element 4,1 of Tuple: \",   NestedT[4][1])"
      ],
      "execution_count": 0,
      "outputs": []
    },
    {
      "cell_type": "markdown",
      "metadata": {
        "id": "SY1BeUjkbRSU",
        "colab_type": "text"
      },
      "source": [
        "We can access strings in the second nested tuples using a third index:"
      ]
    },
    {
      "cell_type": "code",
      "metadata": {
        "id": "8wUmmS5hbRSU",
        "colab_type": "code",
        "colab": {}
      },
      "source": [
        "NestedT[2][1][0]"
      ],
      "execution_count": 0,
      "outputs": []
    },
    {
      "cell_type": "code",
      "metadata": {
        "id": "iORoOgQ7bRSX",
        "colab_type": "code",
        "colab": {}
      },
      "source": [
        " NestedT[2][1][1]"
      ],
      "execution_count": 0,
      "outputs": []
    },
    {
      "cell_type": "code",
      "metadata": {
        "id": "TXDrl7r_bRSd",
        "colab_type": "code",
        "colab": {}
      },
      "source": [
        "NestedT[4][1][0]"
      ],
      "execution_count": 0,
      "outputs": []
    },
    {
      "cell_type": "code",
      "metadata": {
        "id": "rXpSXbTNbRSf",
        "colab_type": "code",
        "colab": {}
      },
      "source": [
        "NestedT[4][1][1]"
      ],
      "execution_count": 0,
      "outputs": []
    },
    {
      "cell_type": "markdown",
      "metadata": {
        "id": "_6N1V5UabRSh",
        "colab_type": "text"
      },
      "source": [
        " <a id=\"ref2\"></a>\n",
        "<h2 align=center> Quiz on Tuples </h2>"
      ]
    },
    {
      "cell_type": "markdown",
      "metadata": {
        "id": "XZK2cyZCbRSh",
        "colab_type": "text"
      },
      "source": [
        "Consider the following tuple:"
      ]
    },
    {
      "cell_type": "code",
      "metadata": {
        "id": "a9s2-iX-bRSi",
        "colab_type": "code",
        "colab": {
          "base_uri": "https://localhost:8080/",
          "height": 153
        },
        "outputId": "72b46941-f760-45bf-98a4-4eb7f320837d"
      },
      "source": [
        "genres_tuple = (\"pop\", \"rock\", \"soul\", \"hard rock\", \"soft rock\", \\\n",
        "                \"R&B\", \"progressive rock\", \"disco\") \n",
        "genres_tuple"
      ],
      "execution_count": 2,
      "outputs": [
        {
          "output_type": "execute_result",
          "data": {
            "text/plain": [
              "('pop',\n",
              " 'rock',\n",
              " 'soul',\n",
              " 'hard rock',\n",
              " 'soft rock',\n",
              " 'R&B',\n",
              " 'progressive rock',\n",
              " 'disco')"
            ]
          },
          "metadata": {
            "tags": []
          },
          "execution_count": 2
        }
      ]
    },
    {
      "cell_type": "markdown",
      "metadata": {
        "id": "ms2tte7dbRSj",
        "colab_type": "text"
      },
      "source": [
        "#### Find the length of the tuple, \"genres_tuple\":"
      ]
    },
    {
      "cell_type": "code",
      "metadata": {
        "id": "GKZIZdCHbRSj",
        "colab_type": "code",
        "colab": {
          "base_uri": "https://localhost:8080/",
          "height": 34
        },
        "outputId": "eb20d098-6cd8-4e3e-d020-550b353b3f57"
      },
      "source": [
        "len(genres_tuple)"
      ],
      "execution_count": 4,
      "outputs": [
        {
          "output_type": "execute_result",
          "data": {
            "text/plain": [
              "8"
            ]
          },
          "metadata": {
            "tags": []
          },
          "execution_count": 4
        }
      ]
    },
    {
      "cell_type": "markdown",
      "metadata": {
        "id": "qMJZ05n4bRSl",
        "colab_type": "text"
      },
      "source": [
        "#### Access the element, with respect to index 3: "
      ]
    },
    {
      "cell_type": "code",
      "metadata": {
        "id": "LSpy-JO8bRSl",
        "colab_type": "code",
        "colab": {
          "base_uri": "https://localhost:8080/",
          "height": 34
        },
        "outputId": "91c68ce9-4057-4830-f7dc-7bba3073b8a1"
      },
      "source": [
        "print(genres_tuple[3])\n"
      ],
      "execution_count": 5,
      "outputs": [
        {
          "output_type": "stream",
          "text": [
            "hard rock\n"
          ],
          "name": "stdout"
        }
      ]
    },
    {
      "cell_type": "markdown",
      "metadata": {
        "id": "SAdfcMFdbRSn",
        "colab_type": "text"
      },
      "source": [
        "####   Use slicing to obtain indexes 3, 4 and 5:"
      ]
    },
    {
      "cell_type": "code",
      "metadata": {
        "id": "TqjB3-m-bRSo",
        "colab_type": "code",
        "colab": {
          "base_uri": "https://localhost:8080/",
          "height": 34
        },
        "outputId": "1c0e596a-ddb0-4cae-b7ff-d88e601fb0f2"
      },
      "source": [
        "print(genres_tuple[3:6])"
      ],
      "execution_count": 7,
      "outputs": [
        {
          "output_type": "stream",
          "text": [
            "('hard rock', 'soft rock', 'R&B')\n"
          ],
          "name": "stdout"
        }
      ]
    },
    {
      "cell_type": "markdown",
      "metadata": {
        "id": "eMzfbfsIbRSq",
        "colab_type": "text"
      },
      "source": [
        "#### Find the first two elements of the tuple \"genres_tuple\":"
      ]
    },
    {
      "cell_type": "code",
      "metadata": {
        "id": "6-fIFw1ObRSr",
        "colab_type": "code",
        "colab": {
          "base_uri": "https://localhost:8080/",
          "height": 34
        },
        "outputId": "02134a9f-729c-4265-c2f7-1d57d12b69ba"
      },
      "source": [
        "print(genres_tuple[0:2])"
      ],
      "execution_count": 8,
      "outputs": [
        {
          "output_type": "stream",
          "text": [
            "('pop', 'rock')\n"
          ],
          "name": "stdout"
        }
      ]
    },
    {
      "cell_type": "markdown",
      "metadata": {
        "id": "X7v2H9j3bRSs",
        "colab_type": "text"
      },
      "source": [
        "#### Find the first index of 'disco':"
      ]
    },
    {
      "cell_type": "code",
      "metadata": {
        "id": "LJCOgRM3bRSs",
        "colab_type": "code",
        "colab": {
          "base_uri": "https://localhost:8080/",
          "height": 34
        },
        "outputId": "c1bb72bc-0ccb-4658-fb84-357a3133a73c"
      },
      "source": [
        "print(genres_tuple.index(\"disco\"))"
      ],
      "execution_count": 10,
      "outputs": [
        {
          "output_type": "stream",
          "text": [
            "7\n"
          ],
          "name": "stdout"
        }
      ]
    },
    {
      "cell_type": "markdown",
      "metadata": {
        "id": "o9UBTAWQbRSw",
        "colab_type": "text"
      },
      "source": [
        "####  Generate a sorted List from the Tuple C_tuple=(-5,1,-3):"
      ]
    },
    {
      "cell_type": "code",
      "metadata": {
        "id": "emyvMPgPbRSx",
        "colab_type": "code",
        "colab": {}
      },
      "source": [
        ""
      ],
      "execution_count": 0,
      "outputs": []
    },
    {
      "cell_type": "code",
      "metadata": {
        "id": "3wfvyNqXbRS1",
        "colab_type": "code",
        "colab": {}
      },
      "source": [
        ""
      ],
      "execution_count": 0,
      "outputs": []
    }
  ]
}