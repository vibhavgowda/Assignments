{
 "cells": [
  {
   "cell_type": "markdown",
   "metadata": {
    "button": false,
    "new_sheet": false,
    "run_control": {
     "read_only": false
    }
   },
   "source": [
    "<a href=\"https://www.bigdatauniversity.com\"><img src=\"https://ibm.box.com/shared/static/cw2c7r3o20w9zn8gkecaeyjhgw3xdgbj.png\" width=\"400\" align=\"center\"></a>\n",
    "\n",
    "<h1 align=\"center\"><font size=\"5\">Classification with Python</font></h1>"
   ]
  },
  {
   "cell_type": "markdown",
   "metadata": {
    "button": false,
    "new_sheet": false,
    "run_control": {
     "read_only": false
    }
   },
   "source": [
    "In this notebook we try to practice all the classification algorithms that we learned in this course.\n",
    "\n",
    "We load a dataset using Pandas library, and apply the following algorithms, and find the best one for this specific dataset by accuracy evaluation methods.\n",
    "\n",
    "Lets first load required libraries:"
   ]
  },
  {
   "cell_type": "code",
   "execution_count": 1,
   "metadata": {
    "button": false,
    "new_sheet": false,
    "run_control": {
     "read_only": false
    }
   },
   "outputs": [],
   "source": [
    "import itertools\n",
    "import numpy as np\n",
    "import matplotlib.pyplot as plt\n",
    "from matplotlib.ticker import NullFormatter\n",
    "import pandas as pd\n",
    "import numpy as np\n",
    "import matplotlib.ticker as ticker\n",
    "from sklearn import preprocessing\n",
    "%matplotlib inline"
   ]
  },
  {
   "cell_type": "markdown",
   "metadata": {
    "button": false,
    "new_sheet": false,
    "run_control": {
     "read_only": false
    }
   },
   "source": [
    "### About dataset"
   ]
  },
  {
   "cell_type": "markdown",
   "metadata": {
    "button": false,
    "new_sheet": false,
    "run_control": {
     "read_only": false
    }
   },
   "source": [
    "This dataset is about past loans. The __Loan_train.csv__ data set includes details of 346 customers whose loan are already paid off or defaulted. It includes following fields:\n",
    "\n",
    "| Field          | Description                                                                           |\n",
    "|----------------|---------------------------------------------------------------------------------------|\n",
    "| Loan_status    | Whether a loan is paid off on in collection                                           |\n",
    "| Principal      | Basic principal loan amount at the                                                    |\n",
    "| Terms          | Origination terms which can be weekly (7 days), biweekly, and monthly payoff schedule |\n",
    "| Effective_date | When the loan got originated and took effects                                         |\n",
    "| Due_date       | Since it’s one-time payoff schedule, each loan has one single due date                |\n",
    "| Age            | Age of applicant                                                                      |\n",
    "| Education      | Education of applicant                                                                |\n",
    "| Gender         | The gender of applicant                                                               |"
   ]
  },
  {
   "cell_type": "markdown",
   "metadata": {
    "button": false,
    "new_sheet": false,
    "run_control": {
     "read_only": false
    }
   },
   "source": [
    "Lets download the dataset"
   ]
  },
  {
   "cell_type": "code",
   "execution_count": 2,
   "metadata": {
    "button": false,
    "new_sheet": false,
    "run_control": {
     "read_only": false
    },
    "scrolled": true
   },
   "outputs": [
    {
     "name": "stdout",
     "output_type": "stream",
     "text": [
      "--2019-07-24 05:24:45--  https://s3-api.us-geo.objectstorage.softlayer.net/cf-courses-data/CognitiveClass/ML0101ENv3/labs/loan_train.csv\n",
      "Resolving s3-api.us-geo.objectstorage.softlayer.net (s3-api.us-geo.objectstorage.softlayer.net)... 67.228.254.193\n",
      "Connecting to s3-api.us-geo.objectstorage.softlayer.net (s3-api.us-geo.objectstorage.softlayer.net)|67.228.254.193|:443... connected.\n",
      "HTTP request sent, awaiting response... 200 OK\n",
      "Length: 23101 (23K) [text/csv]\n",
      "Saving to: ‘loan_train.csv’\n",
      "\n",
      "100%[======================================>] 23,101      --.-K/s   in 0.002s  \n",
      "\n",
      "2019-07-24 05:24:45 (12.9 MB/s) - ‘loan_train.csv’ saved [23101/23101]\n",
      "\n"
     ]
    }
   ],
   "source": [
    "!wget -O loan_train.csv https://s3-api.us-geo.objectstorage.softlayer.net/cf-courses-data/CognitiveClass/ML0101ENv3/labs/loan_train.csv"
   ]
  },
  {
   "cell_type": "markdown",
   "metadata": {
    "button": false,
    "new_sheet": false,
    "run_control": {
     "read_only": false
    }
   },
   "source": [
    "### Load Data From CSV File  "
   ]
  },
  {
   "cell_type": "code",
   "execution_count": 29,
   "metadata": {
    "button": false,
    "new_sheet": false,
    "run_control": {
     "read_only": false
    }
   },
   "outputs": [
    {
     "data": {
      "text/html": [
       "<div>\n",
       "<style scoped>\n",
       "    .dataframe tbody tr th:only-of-type {\n",
       "        vertical-align: middle;\n",
       "    }\n",
       "\n",
       "    .dataframe tbody tr th {\n",
       "        vertical-align: top;\n",
       "    }\n",
       "\n",
       "    .dataframe thead th {\n",
       "        text-align: right;\n",
       "    }\n",
       "</style>\n",
       "<table border=\"1\" class=\"dataframe\">\n",
       "  <thead>\n",
       "    <tr style=\"text-align: right;\">\n",
       "      <th></th>\n",
       "      <th>Unnamed: 0</th>\n",
       "      <th>Unnamed: 0.1</th>\n",
       "      <th>loan_status</th>\n",
       "      <th>Principal</th>\n",
       "      <th>terms</th>\n",
       "      <th>effective_date</th>\n",
       "      <th>due_date</th>\n",
       "      <th>age</th>\n",
       "      <th>education</th>\n",
       "      <th>Gender</th>\n",
       "    </tr>\n",
       "  </thead>\n",
       "  <tbody>\n",
       "    <tr>\n",
       "      <th>0</th>\n",
       "      <td>0</td>\n",
       "      <td>0</td>\n",
       "      <td>PAIDOFF</td>\n",
       "      <td>1000</td>\n",
       "      <td>30</td>\n",
       "      <td>9/8/2016</td>\n",
       "      <td>10/7/2016</td>\n",
       "      <td>45</td>\n",
       "      <td>High School or Below</td>\n",
       "      <td>male</td>\n",
       "    </tr>\n",
       "    <tr>\n",
       "      <th>1</th>\n",
       "      <td>2</td>\n",
       "      <td>2</td>\n",
       "      <td>PAIDOFF</td>\n",
       "      <td>1000</td>\n",
       "      <td>30</td>\n",
       "      <td>9/8/2016</td>\n",
       "      <td>10/7/2016</td>\n",
       "      <td>33</td>\n",
       "      <td>Bechalor</td>\n",
       "      <td>female</td>\n",
       "    </tr>\n",
       "    <tr>\n",
       "      <th>2</th>\n",
       "      <td>3</td>\n",
       "      <td>3</td>\n",
       "      <td>PAIDOFF</td>\n",
       "      <td>1000</td>\n",
       "      <td>15</td>\n",
       "      <td>9/8/2016</td>\n",
       "      <td>9/22/2016</td>\n",
       "      <td>27</td>\n",
       "      <td>college</td>\n",
       "      <td>male</td>\n",
       "    </tr>\n",
       "    <tr>\n",
       "      <th>3</th>\n",
       "      <td>4</td>\n",
       "      <td>4</td>\n",
       "      <td>PAIDOFF</td>\n",
       "      <td>1000</td>\n",
       "      <td>30</td>\n",
       "      <td>9/9/2016</td>\n",
       "      <td>10/8/2016</td>\n",
       "      <td>28</td>\n",
       "      <td>college</td>\n",
       "      <td>female</td>\n",
       "    </tr>\n",
       "    <tr>\n",
       "      <th>4</th>\n",
       "      <td>6</td>\n",
       "      <td>6</td>\n",
       "      <td>PAIDOFF</td>\n",
       "      <td>1000</td>\n",
       "      <td>30</td>\n",
       "      <td>9/9/2016</td>\n",
       "      <td>10/8/2016</td>\n",
       "      <td>29</td>\n",
       "      <td>college</td>\n",
       "      <td>male</td>\n",
       "    </tr>\n",
       "  </tbody>\n",
       "</table>\n",
       "</div>"
      ],
      "text/plain": [
       "   Unnamed: 0  Unnamed: 0.1 loan_status  Principal  terms effective_date  \\\n",
       "0           0             0     PAIDOFF       1000     30       9/8/2016   \n",
       "1           2             2     PAIDOFF       1000     30       9/8/2016   \n",
       "2           3             3     PAIDOFF       1000     15       9/8/2016   \n",
       "3           4             4     PAIDOFF       1000     30       9/9/2016   \n",
       "4           6             6     PAIDOFF       1000     30       9/9/2016   \n",
       "\n",
       "    due_date  age             education  Gender  \n",
       "0  10/7/2016   45  High School or Below    male  \n",
       "1  10/7/2016   33              Bechalor  female  \n",
       "2  9/22/2016   27               college    male  \n",
       "3  10/8/2016   28               college  female  \n",
       "4  10/8/2016   29               college    male  "
      ]
     },
     "execution_count": 29,
     "metadata": {},
     "output_type": "execute_result"
    }
   ],
   "source": [
    "df = pd.read_csv('loan_train.csv')\n",
    "df.head()"
   ]
  },
  {
   "cell_type": "code",
   "execution_count": 28,
   "metadata": {},
   "outputs": [
    {
     "data": {
      "text/plain": [
       "(346, 10)"
      ]
     },
     "execution_count": 28,
     "metadata": {},
     "output_type": "execute_result"
    }
   ],
   "source": [
    "df.shape"
   ]
  },
  {
   "cell_type": "markdown",
   "metadata": {
    "button": false,
    "new_sheet": false,
    "run_control": {
     "read_only": false
    }
   },
   "source": [
    "### Convert to date time object "
   ]
  },
  {
   "cell_type": "code",
   "execution_count": 30,
   "metadata": {
    "button": false,
    "new_sheet": false,
    "run_control": {
     "read_only": false
    }
   },
   "outputs": [
    {
     "data": {
      "text/html": [
       "<div>\n",
       "<style scoped>\n",
       "    .dataframe tbody tr th:only-of-type {\n",
       "        vertical-align: middle;\n",
       "    }\n",
       "\n",
       "    .dataframe tbody tr th {\n",
       "        vertical-align: top;\n",
       "    }\n",
       "\n",
       "    .dataframe thead th {\n",
       "        text-align: right;\n",
       "    }\n",
       "</style>\n",
       "<table border=\"1\" class=\"dataframe\">\n",
       "  <thead>\n",
       "    <tr style=\"text-align: right;\">\n",
       "      <th></th>\n",
       "      <th>Unnamed: 0</th>\n",
       "      <th>Unnamed: 0.1</th>\n",
       "      <th>loan_status</th>\n",
       "      <th>Principal</th>\n",
       "      <th>terms</th>\n",
       "      <th>effective_date</th>\n",
       "      <th>due_date</th>\n",
       "      <th>age</th>\n",
       "      <th>education</th>\n",
       "      <th>Gender</th>\n",
       "    </tr>\n",
       "  </thead>\n",
       "  <tbody>\n",
       "    <tr>\n",
       "      <th>0</th>\n",
       "      <td>0</td>\n",
       "      <td>0</td>\n",
       "      <td>PAIDOFF</td>\n",
       "      <td>1000</td>\n",
       "      <td>30</td>\n",
       "      <td>2016-09-08</td>\n",
       "      <td>2016-10-07</td>\n",
       "      <td>45</td>\n",
       "      <td>High School or Below</td>\n",
       "      <td>male</td>\n",
       "    </tr>\n",
       "    <tr>\n",
       "      <th>1</th>\n",
       "      <td>2</td>\n",
       "      <td>2</td>\n",
       "      <td>PAIDOFF</td>\n",
       "      <td>1000</td>\n",
       "      <td>30</td>\n",
       "      <td>2016-09-08</td>\n",
       "      <td>2016-10-07</td>\n",
       "      <td>33</td>\n",
       "      <td>Bechalor</td>\n",
       "      <td>female</td>\n",
       "    </tr>\n",
       "    <tr>\n",
       "      <th>2</th>\n",
       "      <td>3</td>\n",
       "      <td>3</td>\n",
       "      <td>PAIDOFF</td>\n",
       "      <td>1000</td>\n",
       "      <td>15</td>\n",
       "      <td>2016-09-08</td>\n",
       "      <td>2016-09-22</td>\n",
       "      <td>27</td>\n",
       "      <td>college</td>\n",
       "      <td>male</td>\n",
       "    </tr>\n",
       "    <tr>\n",
       "      <th>3</th>\n",
       "      <td>4</td>\n",
       "      <td>4</td>\n",
       "      <td>PAIDOFF</td>\n",
       "      <td>1000</td>\n",
       "      <td>30</td>\n",
       "      <td>2016-09-09</td>\n",
       "      <td>2016-10-08</td>\n",
       "      <td>28</td>\n",
       "      <td>college</td>\n",
       "      <td>female</td>\n",
       "    </tr>\n",
       "    <tr>\n",
       "      <th>4</th>\n",
       "      <td>6</td>\n",
       "      <td>6</td>\n",
       "      <td>PAIDOFF</td>\n",
       "      <td>1000</td>\n",
       "      <td>30</td>\n",
       "      <td>2016-09-09</td>\n",
       "      <td>2016-10-08</td>\n",
       "      <td>29</td>\n",
       "      <td>college</td>\n",
       "      <td>male</td>\n",
       "    </tr>\n",
       "  </tbody>\n",
       "</table>\n",
       "</div>"
      ],
      "text/plain": [
       "   Unnamed: 0  Unnamed: 0.1 loan_status  Principal  terms effective_date  \\\n",
       "0           0             0     PAIDOFF       1000     30     2016-09-08   \n",
       "1           2             2     PAIDOFF       1000     30     2016-09-08   \n",
       "2           3             3     PAIDOFF       1000     15     2016-09-08   \n",
       "3           4             4     PAIDOFF       1000     30     2016-09-09   \n",
       "4           6             6     PAIDOFF       1000     30     2016-09-09   \n",
       "\n",
       "    due_date  age             education  Gender  \n",
       "0 2016-10-07   45  High School or Below    male  \n",
       "1 2016-10-07   33              Bechalor  female  \n",
       "2 2016-09-22   27               college    male  \n",
       "3 2016-10-08   28               college  female  \n",
       "4 2016-10-08   29               college    male  "
      ]
     },
     "execution_count": 30,
     "metadata": {},
     "output_type": "execute_result"
    }
   ],
   "source": [
    "df['due_date'] = pd.to_datetime(df['due_date'])\n",
    "df['effective_date'] = pd.to_datetime(df['effective_date'])\n",
    "df.head()"
   ]
  },
  {
   "cell_type": "markdown",
   "metadata": {
    "button": false,
    "new_sheet": false,
    "run_control": {
     "read_only": false
    }
   },
   "source": [
    "# Data visualization and pre-processing\n",
    "\n"
   ]
  },
  {
   "cell_type": "markdown",
   "metadata": {
    "button": false,
    "new_sheet": false,
    "run_control": {
     "read_only": false
    }
   },
   "source": [
    "Let’s see how many of each class is in our data set "
   ]
  },
  {
   "cell_type": "code",
   "execution_count": 31,
   "metadata": {
    "button": false,
    "new_sheet": false,
    "run_control": {
     "read_only": false
    }
   },
   "outputs": [
    {
     "data": {
      "text/plain": [
       "PAIDOFF       260\n",
       "COLLECTION     86\n",
       "Name: loan_status, dtype: int64"
      ]
     },
     "execution_count": 31,
     "metadata": {},
     "output_type": "execute_result"
    }
   ],
   "source": [
    "df['loan_status'].value_counts()"
   ]
  },
  {
   "cell_type": "markdown",
   "metadata": {
    "button": false,
    "new_sheet": false,
    "run_control": {
     "read_only": false
    }
   },
   "source": [
    "260 people have paid off the loan on time while 86 have gone into collection \n"
   ]
  },
  {
   "cell_type": "markdown",
   "metadata": {},
   "source": [
    "Lets plot some columns to underestand data better:"
   ]
  },
  {
   "cell_type": "code",
   "execution_count": 6,
   "metadata": {},
   "outputs": [
    {
     "name": "stdout",
     "output_type": "stream",
     "text": [
      "Solving environment: done\n",
      "\n",
      "## Package Plan ##\n",
      "\n",
      "  environment location: /opt/conda/envs/Python36\n",
      "\n",
      "  added / updated specs: \n",
      "    - seaborn\n",
      "\n",
      "\n",
      "The following packages will be downloaded:\n",
      "\n",
      "    package                    |            build\n",
      "    ---------------------------|-----------------\n",
      "    seaborn-0.9.0              |           py36_0         379 KB  anaconda\n",
      "    ca-certificates-2019.5.15  |                0         133 KB  anaconda\n",
      "    certifi-2019.6.16          |           py36_0         154 KB  anaconda\n",
      "    openssl-1.1.1              |       h7b6447c_0         5.0 MB  anaconda\n",
      "    ------------------------------------------------------------\n",
      "                                           Total:         5.7 MB\n",
      "\n",
      "The following packages will be UPDATED:\n",
      "\n",
      "    ca-certificates: 2019.5.15-0       --> 2019.5.15-0      anaconda\n",
      "    certifi:         2019.6.16-py36_0  --> 2019.6.16-py36_0 anaconda\n",
      "    openssl:         1.1.1c-h7b6447c_1 --> 1.1.1-h7b6447c_0 anaconda\n",
      "    seaborn:         0.9.0-py36_0      --> 0.9.0-py36_0     anaconda\n",
      "\n",
      "\n",
      "Downloading and Extracting Packages\n",
      "seaborn-0.9.0        | 379 KB    | ##################################### | 100% \n",
      "ca-certificates-2019 | 133 KB    | ##################################### | 100% \n",
      "certifi-2019.6.16    | 154 KB    | ##################################### | 100% \n",
      "openssl-1.1.1        | 5.0 MB    | ##################################### | 100% \n",
      "Preparing transaction: done\n",
      "Verifying transaction: done\n",
      "Executing transaction: done\n"
     ]
    }
   ],
   "source": [
    "# notice: installing seaborn might takes a few minutes\n",
    "!conda install -c anaconda seaborn -y"
   ]
  },
  {
   "cell_type": "code",
   "execution_count": 32,
   "metadata": {},
   "outputs": [
    {
     "data": {
      "image/png": "[encoded data removed]",
      "text/plain": [
       "<Figure size 432x216 with 2 Axes>"
      ]
     },
     "metadata": {
      "needs_background": "light"
     },
     "output_type": "display_data"
    }
   ],
   "source": [
    "import seaborn as sns\n",
    "\n",
    "bins = np.linspace(df.Principal.min(), df.Principal.max(), 10)\n",
    "g = sns.FacetGrid(df, col=\"Gender\", hue=\"loan_status\", palette=\"Set1\", col_wrap=2)\n",
    "g.map(plt.hist, 'Principal', bins=bins, ec=\"k\")\n",
    "\n",
    "g.axes[-1].legend()\n",
    "plt.show()"
   ]
  },
  {
   "cell_type": "code",
   "execution_count": 33,
   "metadata": {
    "button": false,
    "new_sheet": false,
    "run_control": {
     "read_only": false
    }
   },
   "outputs": [
    {
     "data": {
      "image/png": "[encoded data removed]",
      "text/plain": [
       "<Figure size 432x216 with 2 Axes>"
      ]
     },
     "metadata": {
      "needs_background": "light"
     },
     "output_type": "display_data"
    }
   ],
   "source": [
    "bins = np.linspace(df.age.min(), df.age.max(), 10)\n",
    "g = sns.FacetGrid(df, col=\"Gender\", hue=\"loan_status\", palette=\"Set1\", col_wrap=2)\n",
    "g.map(plt.hist, 'age', bins=bins, ec=\"k\")\n",
    "\n",
    "g.axes[-1].legend()\n",
    "plt.show()"
   ]
  },
  {
   "cell_type": "markdown",
   "metadata": {
    "button": false,
    "new_sheet": false,
    "run_control": {
     "read_only": false
    }
   },
   "source": [
    "# Pre-processing:  Feature selection/extraction"
   ]
  },
  {
   "cell_type": "markdown",
   "metadata": {
    "button": false,
    "new_sheet": false,
    "run_control": {
     "read_only": false
    }
   },
   "source": [
    "### Lets look at the day of the week people get the loan "
   ]
  },
  {
   "cell_type": "code",
   "execution_count": 34,
   "metadata": {
    "button": false,
    "new_sheet": false,
    "run_control": {
     "read_only": false
    }
   },
   "outputs": [
    {
     "data": {
      "image/png": "[encoded data removed]",
      "text/plain": [
       "<Figure size 432x216 with 2 Axes>"
      ]
     },
     "metadata": {
      "needs_background": "light"
     },
     "output_type": "display_data"
    }
   ],
   "source": [
    "df['dayofweek'] = df['effective_date'].dt.dayofweek\n",
    "bins = np.linspace(df.dayofweek.min(), df.dayofweek.max(), 10)\n",
    "g = sns.FacetGrid(df, col=\"Gender\", hue=\"loan_status\", palette=\"Set1\", col_wrap=2)\n",
    "g.map(plt.hist, 'dayofweek', bins=bins, ec=\"k\")\n",
    "g.axes[-1].legend()\n",
    "plt.show()\n"
   ]
  },
  {
   "cell_type": "markdown",
   "metadata": {
    "button": false,
    "new_sheet": false,
    "run_control": {
     "read_only": false
    }
   },
   "source": [
    "We see that people who get the loan at the end of the week dont pay it off, so lets use Feature binarization to set a threshold values less then day 4 "
   ]
  },
  {
   "cell_type": "code",
   "execution_count": 35,
   "metadata": {
    "button": false,
    "new_sheet": false,
    "run_control": {
     "read_only": false
    }
   },
   "outputs": [
    {
     "data": {
      "text/html": [
       "<div>\n",
       "<style scoped>\n",
       "    .dataframe tbody tr th:only-of-type {\n",
       "        vertical-align: middle;\n",
       "    }\n",
       "\n",
       "    .dataframe tbody tr th {\n",
       "        vertical-align: top;\n",
       "    }\n",
       "\n",
       "    .dataframe thead th {\n",
       "        text-align: right;\n",
       "    }\n",
       "</style>\n",
       "<table border=\"1\" class=\"dataframe\">\n",
       "  <thead>\n",
       "    <tr style=\"text-align: right;\">\n",
       "      <th></th>\n",
       "      <th>Unnamed: 0</th>\n",
       "      <th>Unnamed: 0.1</th>\n",
       "      <th>loan_status</th>\n",
       "      <th>Principal</th>\n",
       "      <th>terms</th>\n",
       "      <th>effective_date</th>\n",
       "      <th>due_date</th>\n",
       "      <th>age</th>\n",
       "      <th>education</th>\n",
       "      <th>Gender</th>\n",
       "      <th>dayofweek</th>\n",
       "      <th>weekend</th>\n",
       "    </tr>\n",
       "  </thead>\n",
       "  <tbody>\n",
       "    <tr>\n",
       "      <th>0</th>\n",
       "      <td>0</td>\n",
       "      <td>0</td>\n",
       "      <td>PAIDOFF</td>\n",
       "      <td>1000</td>\n",
       "      <td>30</td>\n",
       "      <td>2016-09-08</td>\n",
       "      <td>2016-10-07</td>\n",
       "      <td>45</td>\n",
       "      <td>High School or Below</td>\n",
       "      <td>male</td>\n",
       "      <td>3</td>\n",
       "      <td>0</td>\n",
       "    </tr>\n",
       "    <tr>\n",
       "      <th>1</th>\n",
       "      <td>2</td>\n",
       "      <td>2</td>\n",
       "      <td>PAIDOFF</td>\n",
       "      <td>1000</td>\n",
       "      <td>30</td>\n",
       "      <td>2016-09-08</td>\n",
       "      <td>2016-10-07</td>\n",
       "      <td>33</td>\n",
       "      <td>Bechalor</td>\n",
       "      <td>female</td>\n",
       "      <td>3</td>\n",
       "      <td>0</td>\n",
       "    </tr>\n",
       "    <tr>\n",
       "      <th>2</th>\n",
       "      <td>3</td>\n",
       "      <td>3</td>\n",
       "      <td>PAIDOFF</td>\n",
       "      <td>1000</td>\n",
       "      <td>15</td>\n",
       "      <td>2016-09-08</td>\n",
       "      <td>2016-09-22</td>\n",
       "      <td>27</td>\n",
       "      <td>college</td>\n",
       "      <td>male</td>\n",
       "      <td>3</td>\n",
       "      <td>0</td>\n",
       "    </tr>\n",
       "    <tr>\n",
       "      <th>3</th>\n",
       "      <td>4</td>\n",
       "      <td>4</td>\n",
       "      <td>PAIDOFF</td>\n",
       "      <td>1000</td>\n",
       "      <td>30</td>\n",
       "      <td>2016-09-09</td>\n",
       "      <td>2016-10-08</td>\n",
       "      <td>28</td>\n",
       "      <td>college</td>\n",
       "      <td>female</td>\n",
       "      <td>4</td>\n",
       "      <td>1</td>\n",
       "    </tr>\n",
       "    <tr>\n",
       "      <th>4</th>\n",
       "      <td>6</td>\n",
       "      <td>6</td>\n",
       "      <td>PAIDOFF</td>\n",
       "      <td>1000</td>\n",
       "      <td>30</td>\n",
       "      <td>2016-09-09</td>\n",
       "      <td>2016-10-08</td>\n",
       "      <td>29</td>\n",
       "      <td>college</td>\n",
       "      <td>male</td>\n",
       "      <td>4</td>\n",
       "      <td>1</td>\n",
       "    </tr>\n",
       "  </tbody>\n",
       "</table>\n",
       "</div>"
      ],
      "text/plain": [
       "   Unnamed: 0  Unnamed: 0.1 loan_status  Principal  terms effective_date  \\\n",
       "0           0             0     PAIDOFF       1000     30     2016-09-08   \n",
       "1           2             2     PAIDOFF       1000     30     2016-09-08   \n",
       "2           3             3     PAIDOFF       1000     15     2016-09-08   \n",
       "3           4             4     PAIDOFF       1000     30     2016-09-09   \n",
       "4           6             6     PAIDOFF       1000     30     2016-09-09   \n",
       "\n",
       "    due_date  age             education  Gender  dayofweek  weekend  \n",
       "0 2016-10-07   45  High School or Below    male          3        0  \n",
       "1 2016-10-07   33              Bechalor  female          3        0  \n",
       "2 2016-09-22   27               college    male          3        0  \n",
       "3 2016-10-08   28               college  female          4        1  \n",
       "4 2016-10-08   29               college    male          4        1  "
      ]
     },
     "execution_count": 35,
     "metadata": {},
     "output_type": "execute_result"
    }
   ],
   "source": [
    "df['weekend'] = df['dayofweek'].apply(lambda x: 1 if (x>3)  else 0)\n",
    "df.head()"
   ]
  },
  {
   "cell_type": "markdown",
   "metadata": {
    "button": false,
    "new_sheet": false,
    "run_control": {
     "read_only": false
    }
   },
   "source": [
    "## Convert Categorical features to numerical values"
   ]
  },
  {
   "cell_type": "markdown",
   "metadata": {
    "button": false,
    "new_sheet": false,
    "run_control": {
     "read_only": false
    }
   },
   "source": [
    "Lets look at gender:"
   ]
  },
  {
   "cell_type": "code",
   "execution_count": 37,
   "metadata": {
    "button": false,
    "new_sheet": false,
    "run_control": {
     "read_only": false
    },
    "scrolled": true
   },
   "outputs": [
    {
     "data": {
      "text/plain": [
       "Gender  loan_status\n",
       "female  PAIDOFF        0.865385\n",
       "        COLLECTION     0.134615\n",
       "male    PAIDOFF        0.731293\n",
       "        COLLECTION     0.268707\n",
       "Name: loan_status, dtype: float64"
      ]
     },
     "execution_count": 37,
     "metadata": {},
     "output_type": "execute_result"
    }
   ],
   "source": [
    "df.groupby(['Gender'])['loan_status'].value_counts(normalize=True)"
   ]
  },
  {
   "cell_type": "markdown",
   "metadata": {
    "button": false,
    "new_sheet": false,
    "run_control": {
     "read_only": false
    }
   },
   "source": [
    "86 % of female pay there loans while only 73 % of males pay there loan\n"
   ]
  },
  {
   "cell_type": "markdown",
   "metadata": {
    "button": false,
    "new_sheet": false,
    "run_control": {
     "read_only": false
    }
   },
   "source": [
    "Lets convert male to 0 and female to 1:\n"
   ]
  },
  {
   "cell_type": "code",
   "execution_count": 38,
   "metadata": {
    "button": false,
    "new_sheet": false,
    "run_control": {
     "read_only": false
    }
   },
   "outputs": [
    {
     "data": {
      "text/html": [
       "<div>\n",
       "<style scoped>\n",
       "    .dataframe tbody tr th:only-of-type {\n",
       "        vertical-align: middle;\n",
       "    }\n",
       "\n",
       "    .dataframe tbody tr th {\n",
       "        vertical-align: top;\n",
       "    }\n",
       "\n",
       "    .dataframe thead th {\n",
       "        text-align: right;\n",
       "    }\n",
       "</style>\n",
       "<table border=\"1\" class=\"dataframe\">\n",
       "  <thead>\n",
       "    <tr style=\"text-align: right;\">\n",
       "      <th></th>\n",
       "      <th>Unnamed: 0</th>\n",
       "      <th>Unnamed: 0.1</th>\n",
       "      <th>loan_status</th>\n",
       "      <th>Principal</th>\n",
       "      <th>terms</th>\n",
       "      <th>effective_date</th>\n",
       "      <th>due_date</th>\n",
       "      <th>age</th>\n",
       "      <th>education</th>\n",
       "      <th>Gender</th>\n",
       "      <th>dayofweek</th>\n",
       "      <th>weekend</th>\n",
       "    </tr>\n",
       "  </thead>\n",
       "  <tbody>\n",
       "    <tr>\n",
       "      <th>0</th>\n",
       "      <td>0</td>\n",
       "      <td>0</td>\n",
       "      <td>PAIDOFF</td>\n",
       "      <td>1000</td>\n",
       "      <td>30</td>\n",
       "      <td>2016-09-08</td>\n",
       "      <td>2016-10-07</td>\n",
       "      <td>45</td>\n",
       "      <td>High School or Below</td>\n",
       "      <td>0</td>\n",
       "      <td>3</td>\n",
       "      <td>0</td>\n",
       "    </tr>\n",
       "    <tr>\n",
       "      <th>1</th>\n",
       "      <td>2</td>\n",
       "      <td>2</td>\n",
       "      <td>PAIDOFF</td>\n",
       "      <td>1000</td>\n",
       "      <td>30</td>\n",
       "      <td>2016-09-08</td>\n",
       "      <td>2016-10-07</td>\n",
       "      <td>33</td>\n",
       "      <td>Bechalor</td>\n",
       "      <td>1</td>\n",
       "      <td>3</td>\n",
       "      <td>0</td>\n",
       "    </tr>\n",
       "    <tr>\n",
       "      <th>2</th>\n",
       "      <td>3</td>\n",
       "      <td>3</td>\n",
       "      <td>PAIDOFF</td>\n",
       "      <td>1000</td>\n",
       "      <td>15</td>\n",
       "      <td>2016-09-08</td>\n",
       "      <td>2016-09-22</td>\n",
       "      <td>27</td>\n",
       "      <td>college</td>\n",
       "      <td>0</td>\n",
       "      <td>3</td>\n",
       "      <td>0</td>\n",
       "    </tr>\n",
       "    <tr>\n",
       "      <th>3</th>\n",
       "      <td>4</td>\n",
       "      <td>4</td>\n",
       "      <td>PAIDOFF</td>\n",
       "      <td>1000</td>\n",
       "      <td>30</td>\n",
       "      <td>2016-09-09</td>\n",
       "      <td>2016-10-08</td>\n",
       "      <td>28</td>\n",
       "      <td>college</td>\n",
       "      <td>1</td>\n",
       "      <td>4</td>\n",
       "      <td>1</td>\n",
       "    </tr>\n",
       "    <tr>\n",
       "      <th>4</th>\n",
       "      <td>6</td>\n",
       "      <td>6</td>\n",
       "      <td>PAIDOFF</td>\n",
       "      <td>1000</td>\n",
       "      <td>30</td>\n",
       "      <td>2016-09-09</td>\n",
       "      <td>2016-10-08</td>\n",
       "      <td>29</td>\n",
       "      <td>college</td>\n",
       "      <td>0</td>\n",
       "      <td>4</td>\n",
       "      <td>1</td>\n",
       "    </tr>\n",
       "  </tbody>\n",
       "</table>\n",
       "</div>"
      ],
      "text/plain": [
       "   Unnamed: 0  Unnamed: 0.1 loan_status  Principal  terms effective_date  \\\n",
       "0           0             0     PAIDOFF       1000     30     2016-09-08   \n",
       "1           2             2     PAIDOFF       1000     30     2016-09-08   \n",
       "2           3             3     PAIDOFF       1000     15     2016-09-08   \n",
       "3           4             4     PAIDOFF       1000     30     2016-09-09   \n",
       "4           6             6     PAIDOFF       1000     30     2016-09-09   \n",
       "\n",
       "    due_date  age             education  Gender  dayofweek  weekend  \n",
       "0 2016-10-07   45  High School or Below       0          3        0  \n",
       "1 2016-10-07   33              Bechalor       1          3        0  \n",
       "2 2016-09-22   27               college       0          3        0  \n",
       "3 2016-10-08   28               college       1          4        1  \n",
       "4 2016-10-08   29               college       0          4        1  "
      ]
     },
     "execution_count": 38,
     "metadata": {},
     "output_type": "execute_result"
    }
   ],
   "source": [
    "df['Gender'].replace(to_replace=['male','female'], value=[0,1],inplace=True)\n",
    "df.head()"
   ]
  },
  {
   "cell_type": "markdown",
   "metadata": {
    "button": false,
    "new_sheet": false,
    "run_control": {
     "read_only": false
    }
   },
   "source": [
    "## One Hot Encoding  \n",
    "#### How about education?"
   ]
  },
  {
   "cell_type": "code",
   "execution_count": 39,
   "metadata": {
    "button": false,
    "new_sheet": false,
    "run_control": {
     "read_only": false
    }
   },
   "outputs": [
    {
     "data": {
      "text/plain": [
       "education             loan_status\n",
       "Bechalor              PAIDOFF        0.750000\n",
       "                      COLLECTION     0.250000\n",
       "High School or Below  PAIDOFF        0.741722\n",
       "                      COLLECTION     0.258278\n",
       "Master or Above       COLLECTION     0.500000\n",
       "                      PAIDOFF        0.500000\n",
       "college               PAIDOFF        0.765101\n",
       "                      COLLECTION     0.234899\n",
       "Name: loan_status, dtype: float64"
      ]
     },
     "execution_count": 39,
     "metadata": {},
     "output_type": "execute_result"
    }
   ],
   "source": [
    "df.groupby(['education'])['loan_status'].value_counts(normalize=True)"
   ]
  },
  {
   "cell_type": "markdown",
   "metadata": {
    "button": false,
    "new_sheet": false,
    "run_control": {
     "read_only": false
    }
   },
   "source": [
    "#### Feature befor One Hot Encoding"
   ]
  },
  {
   "cell_type": "code",
   "execution_count": 46,
   "metadata": {
    "button": false,
    "new_sheet": false,
    "run_control": {
     "read_only": false
    }
   },
   "outputs": [
    {
     "data": {
      "text/html": [
       "<div>\n",
       "<style scoped>\n",
       "    .dataframe tbody tr th:only-of-type {\n",
       "        vertical-align: middle;\n",
       "    }\n",
       "\n",
       "    .dataframe tbody tr th {\n",
       "        vertical-align: top;\n",
       "    }\n",
       "\n",
       "    .dataframe thead th {\n",
       "        text-align: right;\n",
       "    }\n",
       "</style>\n",
       "<table border=\"1\" class=\"dataframe\">\n",
       "  <thead>\n",
       "    <tr style=\"text-align: right;\">\n",
       "      <th></th>\n",
       "      <th>Principal</th>\n",
       "      <th>terms</th>\n",
       "      <th>age</th>\n",
       "      <th>Gender</th>\n",
       "      <th>education</th>\n",
       "    </tr>\n",
       "  </thead>\n",
       "  <tbody>\n",
       "    <tr>\n",
       "      <th>0</th>\n",
       "      <td>1000</td>\n",
       "      <td>30</td>\n",
       "      <td>45</td>\n",
       "      <td>0</td>\n",
       "      <td>High School or Below</td>\n",
       "    </tr>\n",
       "    <tr>\n",
       "      <th>1</th>\n",
       "      <td>1000</td>\n",
       "      <td>30</td>\n",
       "      <td>33</td>\n",
       "      <td>1</td>\n",
       "      <td>Bechalor</td>\n",
       "    </tr>\n",
       "    <tr>\n",
       "      <th>2</th>\n",
       "      <td>1000</td>\n",
       "      <td>15</td>\n",
       "      <td>27</td>\n",
       "      <td>0</td>\n",
       "      <td>college</td>\n",
       "    </tr>\n",
       "    <tr>\n",
       "      <th>3</th>\n",
       "      <td>1000</td>\n",
       "      <td>30</td>\n",
       "      <td>28</td>\n",
       "      <td>1</td>\n",
       "      <td>college</td>\n",
       "    </tr>\n",
       "    <tr>\n",
       "      <th>4</th>\n",
       "      <td>1000</td>\n",
       "      <td>30</td>\n",
       "      <td>29</td>\n",
       "      <td>0</td>\n",
       "      <td>college</td>\n",
       "    </tr>\n",
       "  </tbody>\n",
       "</table>\n",
       "</div>"
      ],
      "text/plain": [
       "   Principal  terms  age  Gender             education\n",
       "0       1000     30   45       0  High School or Below\n",
       "1       1000     30   33       1              Bechalor\n",
       "2       1000     15   27       0               college\n",
       "3       1000     30   28       1               college\n",
       "4       1000     30   29       0               college"
      ]
     },
     "execution_count": 46,
     "metadata": {},
     "output_type": "execute_result"
    }
   ],
   "source": [
    "df[['Principal','terms','age','Gender','education']].head()"
   ]
  },
  {
   "cell_type": "markdown",
   "metadata": {
    "button": false,
    "new_sheet": false,
    "run_control": {
     "read_only": false
    }
   },
   "source": [
    "#### Use one hot encoding technique to conver categorical varables to binary variables and append them to the feature Data Frame "
   ]
  },
  {
   "cell_type": "code",
   "execution_count": 47,
   "metadata": {
    "button": false,
    "new_sheet": false,
    "run_control": {
     "read_only": false
    },
    "scrolled": true
   },
   "outputs": [
    {
     "data": {
      "text/html": [
       "<div>\n",
       "<style scoped>\n",
       "    .dataframe tbody tr th:only-of-type {\n",
       "        vertical-align: middle;\n",
       "    }\n",
       "\n",
       "    .dataframe tbody tr th {\n",
       "        vertical-align: top;\n",
       "    }\n",
       "\n",
       "    .dataframe thead th {\n",
       "        text-align: right;\n",
       "    }\n",
       "</style>\n",
       "<table border=\"1\" class=\"dataframe\">\n",
       "  <thead>\n",
       "    <tr style=\"text-align: right;\">\n",
       "      <th></th>\n",
       "      <th>Principal</th>\n",
       "      <th>terms</th>\n",
       "      <th>age</th>\n",
       "      <th>Gender</th>\n",
       "      <th>weekend</th>\n",
       "      <th>Bechalor</th>\n",
       "      <th>High School or Below</th>\n",
       "      <th>college</th>\n",
       "    </tr>\n",
       "  </thead>\n",
       "  <tbody>\n",
       "    <tr>\n",
       "      <th>0</th>\n",
       "      <td>1000</td>\n",
       "      <td>30</td>\n",
       "      <td>45</td>\n",
       "      <td>0</td>\n",
       "      <td>0</td>\n",
       "      <td>0</td>\n",
       "      <td>1</td>\n",
       "      <td>0</td>\n",
       "    </tr>\n",
       "    <tr>\n",
       "      <th>1</th>\n",
       "      <td>1000</td>\n",
       "      <td>30</td>\n",
       "      <td>33</td>\n",
       "      <td>1</td>\n",
       "      <td>0</td>\n",
       "      <td>1</td>\n",
       "      <td>0</td>\n",
       "      <td>0</td>\n",
       "    </tr>\n",
       "    <tr>\n",
       "      <th>2</th>\n",
       "      <td>1000</td>\n",
       "      <td>15</td>\n",
       "      <td>27</td>\n",
       "      <td>0</td>\n",
       "      <td>0</td>\n",
       "      <td>0</td>\n",
       "      <td>0</td>\n",
       "      <td>1</td>\n",
       "    </tr>\n",
       "    <tr>\n",
       "      <th>3</th>\n",
       "      <td>1000</td>\n",
       "      <td>30</td>\n",
       "      <td>28</td>\n",
       "      <td>1</td>\n",
       "      <td>1</td>\n",
       "      <td>0</td>\n",
       "      <td>0</td>\n",
       "      <td>1</td>\n",
       "    </tr>\n",
       "    <tr>\n",
       "      <th>4</th>\n",
       "      <td>1000</td>\n",
       "      <td>30</td>\n",
       "      <td>29</td>\n",
       "      <td>0</td>\n",
       "      <td>1</td>\n",
       "      <td>0</td>\n",
       "      <td>0</td>\n",
       "      <td>1</td>\n",
       "    </tr>\n",
       "  </tbody>\n",
       "</table>\n",
       "</div>"
      ],
      "text/plain": [
       "   Principal  terms  age  Gender  weekend  Bechalor  High School or Below  \\\n",
       "0       1000     30   45       0        0         0                     1   \n",
       "1       1000     30   33       1        0         1                     0   \n",
       "2       1000     15   27       0        0         0                     0   \n",
       "3       1000     30   28       1        1         0                     0   \n",
       "4       1000     30   29       0        1         0                     0   \n",
       "\n",
       "   college  \n",
       "0        0  \n",
       "1        0  \n",
       "2        1  \n",
       "3        1  \n",
       "4        1  "
      ]
     },
     "execution_count": 47,
     "metadata": {},
     "output_type": "execute_result"
    }
   ],
   "source": [
    "Feature = df[['Principal','terms','age','Gender','weekend']]\n",
    "Feature = pd.concat([Feature,pd.get_dummies(df['education'])], axis=1)\n",
    "Feature.drop(['Master or Above'], axis = 1,inplace=True)\n",
    "Feature.head()\n"
   ]
  },
  {
   "cell_type": "markdown",
   "metadata": {
    "button": false,
    "new_sheet": false,
    "run_control": {
     "read_only": false
    }
   },
   "source": [
    "### Feature selection"
   ]
  },
  {
   "cell_type": "markdown",
   "metadata": {
    "button": false,
    "new_sheet": false,
    "run_control": {
     "read_only": false
    }
   },
   "source": [
    "Lets defind feature sets, X:"
   ]
  },
  {
   "cell_type": "code",
   "execution_count": 48,
   "metadata": {
    "button": false,
    "new_sheet": false,
    "run_control": {
     "read_only": false
    }
   },
   "outputs": [
    {
     "data": {
      "text/html": [
       "<div>\n",
       "<style scoped>\n",
       "    .dataframe tbody tr th:only-of-type {\n",
       "        vertical-align: middle;\n",
       "    }\n",
       "\n",
       "    .dataframe tbody tr th {\n",
       "        vertical-align: top;\n",
       "    }\n",
       "\n",
       "    .dataframe thead th {\n",
       "        text-align: right;\n",
       "    }\n",
       "</style>\n",
       "<table border=\"1\" class=\"dataframe\">\n",
       "  <thead>\n",
       "    <tr style=\"text-align: right;\">\n",
       "      <th></th>\n",
       "      <th>Principal</th>\n",
       "      <th>terms</th>\n",
       "      <th>age</th>\n",
       "      <th>Gender</th>\n",
       "      <th>weekend</th>\n",
       "      <th>Bechalor</th>\n",
       "      <th>High School or Below</th>\n",
       "      <th>college</th>\n",
       "    </tr>\n",
       "  </thead>\n",
       "  <tbody>\n",
       "    <tr>\n",
       "      <th>0</th>\n",
       "      <td>1000</td>\n",
       "      <td>30</td>\n",
       "      <td>45</td>\n",
       "      <td>0</td>\n",
       "      <td>0</td>\n",
       "      <td>0</td>\n",
       "      <td>1</td>\n",
       "      <td>0</td>\n",
       "    </tr>\n",
       "    <tr>\n",
       "      <th>1</th>\n",
       "      <td>1000</td>\n",
       "      <td>30</td>\n",
       "      <td>33</td>\n",
       "      <td>1</td>\n",
       "      <td>0</td>\n",
       "      <td>1</td>\n",
       "      <td>0</td>\n",
       "      <td>0</td>\n",
       "    </tr>\n",
       "    <tr>\n",
       "      <th>2</th>\n",
       "      <td>1000</td>\n",
       "      <td>15</td>\n",
       "      <td>27</td>\n",
       "      <td>0</td>\n",
       "      <td>0</td>\n",
       "      <td>0</td>\n",
       "      <td>0</td>\n",
       "      <td>1</td>\n",
       "    </tr>\n",
       "    <tr>\n",
       "      <th>3</th>\n",
       "      <td>1000</td>\n",
       "      <td>30</td>\n",
       "      <td>28</td>\n",
       "      <td>1</td>\n",
       "      <td>1</td>\n",
       "      <td>0</td>\n",
       "      <td>0</td>\n",
       "      <td>1</td>\n",
       "    </tr>\n",
       "    <tr>\n",
       "      <th>4</th>\n",
       "      <td>1000</td>\n",
       "      <td>30</td>\n",
       "      <td>29</td>\n",
       "      <td>0</td>\n",
       "      <td>1</td>\n",
       "      <td>0</td>\n",
       "      <td>0</td>\n",
       "      <td>1</td>\n",
       "    </tr>\n",
       "  </tbody>\n",
       "</table>\n",
       "</div>"
      ],
      "text/plain": [
       "   Principal  terms  age  Gender  weekend  Bechalor  High School or Below  \\\n",
       "0       1000     30   45       0        0         0                     1   \n",
       "1       1000     30   33       1        0         1                     0   \n",
       "2       1000     15   27       0        0         0                     0   \n",
       "3       1000     30   28       1        1         0                     0   \n",
       "4       1000     30   29       0        1         0                     0   \n",
       "\n",
       "   college  \n",
       "0        0  \n",
       "1        0  \n",
       "2        1  \n",
       "3        1  \n",
       "4        1  "
      ]
     },
     "execution_count": 48,
     "metadata": {},
     "output_type": "execute_result"
    }
   ],
   "source": [
    "X = Feature\n",
    "X[0:5]"
   ]
  },
  {
   "cell_type": "markdown",
   "metadata": {
    "button": false,
    "new_sheet": false,
    "run_control": {
     "read_only": false
    }
   },
   "source": [
    "What are our lables?"
   ]
  },
  {
   "cell_type": "code",
   "execution_count": 43,
   "metadata": {
    "button": false,
    "new_sheet": false,
    "run_control": {
     "read_only": false
    }
   },
   "outputs": [
    {
     "data": {
      "text/plain": [
       "array(['PAIDOFF', 'PAIDOFF', 'PAIDOFF', 'PAIDOFF', 'PAIDOFF'],\n",
       "      dtype=object)"
      ]
     },
     "execution_count": 43,
     "metadata": {},
     "output_type": "execute_result"
    }
   ],
   "source": [
    "y = df['loan_status'].values\n",
    "y[0:5]"
   ]
  },
  {
   "cell_type": "markdown",
   "metadata": {
    "button": false,
    "new_sheet": false,
    "run_control": {
     "read_only": false
    }
   },
   "source": [
    "## Normalize Data "
   ]
  },
  {
   "cell_type": "markdown",
   "metadata": {
    "button": false,
    "new_sheet": false,
    "run_control": {
     "read_only": false
    }
   },
   "source": [
    "Data Standardization give data zero mean and unit variance (technically should be done after train test split )"
   ]
  },
  {
   "cell_type": "code",
   "execution_count": 49,
   "metadata": {
    "button": false,
    "new_sheet": false,
    "run_control": {
     "read_only": false
    }
   },
   "outputs": [
    {
     "name": "stderr",
     "output_type": "stream",
     "text": [
      "/opt/conda/envs/Python36/lib/python3.6/site-packages/sklearn/preprocessing/data.py:645: DataConversionWarning: Data with input dtype uint8, int64 were all converted to float64 by StandardScaler.\n",
      "  return self.partial_fit(X, y)\n",
      "/opt/conda/envs/Python36/lib/python3.6/site-packages/ipykernel/__main__.py:1: DataConversionWarning: Data with input dtype uint8, int64 were all converted to float64 by StandardScaler.\n",
      "  if __name__ == '__main__':\n"
     ]
    },
    {
     "data": {
      "text/plain": [
       "array([[ 0.51578458,  0.92071769,  2.33152555, -0.42056004, -1.20577805,\n",
       "        -0.38170062,  1.13639374, -0.86968108],\n",
       "       [ 0.51578458,  0.92071769,  0.34170148,  2.37778177, -1.20577805,\n",
       "         2.61985426, -0.87997669, -0.86968108],\n",
       "       [ 0.51578458, -0.95911111, -0.65321055, -0.42056004, -1.20577805,\n",
       "        -0.38170062, -0.87997669,  1.14984679],\n",
       "       [ 0.51578458,  0.92071769, -0.48739188,  2.37778177,  0.82934003,\n",
       "        -0.38170062, -0.87997669,  1.14984679],\n",
       "       [ 0.51578458,  0.92071769, -0.3215732 , -0.42056004,  0.82934003,\n",
       "        -0.38170062, -0.87997669,  1.14984679]])"
      ]
     },
     "execution_count": 49,
     "metadata": {},
     "output_type": "execute_result"
    }
   ],
   "source": [
    "X= preprocessing.StandardScaler().fit(X).transform(X)\n",
    "X[0:5]"
   ]
  },
  {
   "cell_type": "markdown",
   "metadata": {
    "button": false,
    "new_sheet": false,
    "run_control": {
     "read_only": false
    }
   },
   "source": [
    "# Classification "
   ]
  },
  {
   "cell_type": "markdown",
   "metadata": {
    "button": false,
    "new_sheet": false,
    "run_control": {
     "read_only": false
    }
   },
   "source": [
    "Now, it is your turn, use the training set to build an accurate model. Then use the test set to report the accuracy of the model\n",
    "You should use the following algorithm:\n",
    "- K Nearest Neighbor(KNN)\n",
    "- Decision Tree\n",
    "- Support Vector Machine\n",
    "- Logistic Regression\n",
    "\n",
    "\n",
    "\n",
    "__ Notice:__ \n",
    "- You can go above and change the pre-processing, feature selection, feature-extraction, and so on, to make a better model.\n",
    "- You should use either scikit-learn, Scipy or Numpy libraries for developing the classification algorithms.\n",
    "- You should include the code of the algorithm in the following cells."
   ]
  },
  {
   "cell_type": "markdown",
   "metadata": {},
   "source": [
    "# K Nearest Neighbor(KNN)\n",
    "Notice: You should find the best k to build the model with the best accuracy.  \n",
    "**warning:** You should not use the __loan_test.csv__ for finding the best k, however, you can split your train_loan.csv into train and test to find the best __k__."
   ]
  },
  {
   "cell_type": "code",
   "execution_count": 50,
   "metadata": {},
   "outputs": [
    {
     "name": "stdout",
     "output_type": "stream",
     "text": [
      "Train set: (242, 8) (242,)\n",
      "Test set: (104, 8) (104,)\n"
     ]
    }
   ],
   "source": [
    "from sklearn.model_selection import train_test_split\n",
    "X_train,X_test,Y_train,Y_test=train_test_split(X,y,test_size=0.3,random_state=4)\n",
    "print ('Train set:', X_train.shape,  Y_train.shape)\n",
    "print ('Test set:', X_test.shape,  Y_test.shape)"
   ]
  },
  {
   "cell_type": "code",
   "execution_count": 51,
   "metadata": {},
   "outputs": [
    {
     "data": {
      "text/plain": [
       "array([0.71153846, 0.625     , 0.72115385, 0.72115385, 0.73076923,\n",
       "       0.71153846, 0.72115385, 0.72115385, 0.75      , 0.68269231,\n",
       "       0.69230769, 0.71153846, 0.71153846, 0.72115385])"
      ]
     },
     "execution_count": 51,
     "metadata": {},
     "output_type": "execute_result"
    }
   ],
   "source": [
    "from sklearn.neighbors import KNeighborsClassifier\n",
    "from sklearn import metrics\n",
    "Ks=15\n",
    "mean_acc=np.zeros((Ks-1))\n",
    "std_acc=np.zeros((Ks-1))\n",
    "ConfustionMx=[];\n",
    "for n in range(1,Ks):\n",
    "    KNN=KNeighborsClassifier(n_neighbors=n).fit(X_train,Y_train)\n",
    "    yhat=KNN.predict(X_test)\n",
    "    mean_acc[n-1]=metrics.accuracy_score(Y_test,yhat)\n",
    "    std_acc[n-1]=np.std(yhat==Y_test)/np.sqrt(yhat.shape[0])\n",
    "mean_acc"
   ]
  },
  {
   "cell_type": "code",
   "execution_count": 52,
   "metadata": {},
   "outputs": [
    {
     "data": {
      "image/png": "[encoded data removed]",
      "text/plain": [
       "<Figure size 432x288 with 1 Axes>"
      ]
     },
     "metadata": {
      "needs_background": "light"
     },
     "output_type": "display_data"
    }
   ],
   "source": [
    "plt.plot(range(1,Ks),mean_acc,'g')\n",
    "plt.fill_between(range(1,Ks),mean_acc - 1 * std_acc,mean_acc + 1 * std_acc, alpha=0.10)\n",
    "plt.legend(('Accuracy ', '+/- 3xstd'))\n",
    "plt.ylabel('Accuracy ')\n",
    "plt.xlabel('Number of Neighbors (K)')\n",
    "plt.tight_layout()\n",
    "plt.show()"
   ]
  },
  {
   "cell_type": "code",
   "execution_count": 76,
   "metadata": {},
   "outputs": [],
   "source": [
    "neigh = KNeighborsClassifier(n_neighbors = 9).fit(X_train,Y_train)\n",
    "knn_yhat = neigh.predict(X_test)"
   ]
  },
  {
   "cell_type": "code",
   "execution_count": 70,
   "metadata": {},
   "outputs": [],
   "source": [
    "# Decisiondata:image/png;base64,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 Tree"
   ]
  },
  {
   "cell_type": "code",
   "execution_count": 78,
   "metadata": {},
   "outputs": [],
   "source": [
    "from sklearn.tree import DecisionTreeClassifier\n",
    "drugTree = DecisionTreeClassifier(criterion=\"entropy\", max_depth = 3)\n",
    "drugTree.fit(X_train,Y_train)\n",
    "dec_yhat = drugTree.predict(X_test)"
   ]
  },
  {
   "cell_type": "code",
   "execution_count": 58,
   "metadata": {},
   "outputs": [
    {
     "name": "stdout",
     "output_type": "stream",
     "text": [
      "Accuracy: 0.7403846153846154\n"
     ]
    }
   ],
   "source": []
  },
  {
   "cell_type": "code",
   "execution_count": null,
   "metadata": {},
   "outputs": [],
   "source": []
  },
  {
   "cell_type": "markdown",
   "metadata": {},
   "source": [
    "# Support Vector Machine"
   ]
  },
  {
   "cell_type": "code",
   "execution_count": 79,
   "metadata": {},
   "outputs": [
    {
     "name": "stderr",
     "output_type": "stream",
     "text": [
      "/opt/conda/envs/Python36/lib/python3.6/site-packages/sklearn/svm/base.py:196: FutureWarning: The default value of gamma will change from 'auto' to 'scale' in version 0.22 to account better for unscaled features. Set gamma explicitly to 'auto' or 'scale' to avoid this warning.\n",
      "  \"avoid this warning.\", FutureWarning)\n"
     ]
    }
   ],
   "source": [
    "from sklearn import svm\n",
    "clf=svm.SVC(kernel='rbf')\n",
    "clf.fit(X_train,Y_train)\n",
    "svm_yhat=clf.predict(X_test)"
   ]
  },
  {
   "cell_type": "code",
   "execution_count": 62,
   "metadata": {},
   "outputs": [
    {
     "name": "stdout",
     "output_type": "stream",
     "text": [
      "Accuracy: 0.75\n"
     ]
    }
   ],
   "source": []
  },
  {
   "cell_type": "code",
   "execution_count": null,
   "metadata": {},
   "outputs": [],
   "source": []
  },
  {
   "cell_type": "markdown",
   "metadata": {},
   "source": [
    "# Logistic Regression"
   ]
  },
  {
   "cell_type": "code",
   "execution_count": 80,
   "metadata": {},
   "outputs": [],
   "source": [
    "from sklearn.linear_model import LogisticRegression\n",
    "LR=LogisticRegression(C=0.01, solver='liblinear').fit(X_train,Y_train)\n",
    "LR_yhat=LR.predict(X_test)"
   ]
  },
  {
   "cell_type": "code",
   "execution_count": 81,
   "metadata": {},
   "outputs": [
    {
     "name": "stdout",
     "output_type": "stream",
     "text": [
      "Accuracy: 0.7211538461538461\n"
     ]
    }
   ],
   "source": [
    "print('Accuracy:', metrics.accuracy_score(Y_test,LR_yhat))"
   ]
  },
  {
   "cell_type": "code",
   "execution_count": null,
   "metadata": {},
   "outputs": [],
   "source": []
  },
  {
   "cell_type": "markdown",
   "metadata": {},
   "source": [
    "# Model Evaluation using Test set"
   ]
  },
  {
   "cell_type": "code",
   "execution_count": 82,
   "metadata": {},
   "outputs": [],
   "source": [
    "from sklearn.metrics import jaccard_similarity_score\n",
    "from sklearn.metrics import f1_score\n",
    "from sklearn.metrics import log_loss"
   ]
  },
  {
   "cell_type": "markdown",
   "metadata": {},
   "source": [
    "First, download and load the test set:"
   ]
  },
  {
   "cell_type": "code",
   "execution_count": null,
   "metadata": {},
   "outputs": [],
   "source": [
    "!wget -O loan_test.csv https://s3-api.us-geo.objectstorage.softlayer.net/cf-courses-data/CognitiveClass/ML0101ENv3/labs/loan_test.csv"
   ]
  },
  {
   "cell_type": "markdown",
   "metadata": {
    "button": false,
    "new_sheet": false,
    "run_control": {
     "read_only": false
    }
   },
   "source": [
    "### Load Test set for evaluation "
   ]
  },
  {
   "cell_type": "code",
   "execution_count": null,
   "metadata": {
    "button": false,
    "collapsed": true,
    "new_sheet": false,
    "run_control": {
     "read_only": false
    }
   },
   "outputs": [],
   "source": [
    "test_df = pd.read_csv('loan_test.csv')\n",
    "test_df.head()"
   ]
  },
  {
   "cell_type": "code",
   "execution_count": 72,
   "metadata": {},
   "outputs": [],
   "source": [
    "from sklearn.metrics import jaccard_similarity_score\n",
    "from sklearn.metrics import f1_score\n",
    "from sklearn.metrics import log_loss\n"
   ]
  },
  {
   "cell_type": "code",
   "execution_count": 83,
   "metadata": {},
   "outputs": [],
   "source": [
    "def jaccard(yhat):\n",
    "    return jaccard_similarity_score(Y_test, yhat)"
   ]
  },
  {
   "cell_type": "code",
   "execution_count": 92,
   "metadata": {},
   "outputs": [],
   "source": [
    "def logloss():\n",
    "    yhat_prob=LR.predict_proba(X_test)\n",
    "    yhat_prob\n",
    "    return log_loss(Y_test, yhat_prob)"
   ]
  },
  {
   "cell_type": "code",
   "execution_count": null,
   "metadata": {},
   "outputs": [],
   "source": [
    "def f1_scores(yhat):\n",
    "    return f1_score (Y_test, yhat, average='weighted')"
   ]
  },
  {
   "cell_type": "code",
   "execution_count": 93,
   "metadata": {},
   "outputs": [
    {
     "name": "stderr",
     "output_type": "stream",
     "text": [
      "/opt/conda/envs/Python36/lib/python3.6/site-packages/sklearn/metrics/classification.py:1143: UndefinedMetricWarning: F-score is ill-defined and being set to 0.0 in labels with no predicted samples.\n",
      "  'precision', 'predicted', average, warn_for)\n"
     ]
    },
    {
     "data": {
      "text/html": [
       "<div>\n",
       "<style scoped>\n",
       "    .dataframe tbody tr th:only-of-type {\n",
       "        vertical-align: middle;\n",
       "    }\n",
       "\n",
       "    .dataframe tbody tr th {\n",
       "        vertical-align: top;\n",
       "    }\n",
       "\n",
       "    .dataframe thead th {\n",
       "        text-align: right;\n",
       "    }\n",
       "</style>\n",
       "<table border=\"1\" class=\"dataframe\">\n",
       "  <thead>\n",
       "    <tr style=\"text-align: right;\">\n",
       "      <th></th>\n",
       "      <th>jaccard</th>\n",
       "      <th>F1-score</th>\n",
       "      <th>LogLoss</th>\n",
       "    </tr>\n",
       "    <tr>\n",
       "      <th>Algorithm</th>\n",
       "      <th></th>\n",
       "      <th></th>\n",
       "      <th></th>\n",
       "    </tr>\n",
       "  </thead>\n",
       "  <tbody>\n",
       "    <tr>\n",
       "      <th>KNN</th>\n",
       "      <td>0.750000</td>\n",
       "      <td>0.729213</td>\n",
       "      <td>NA</td>\n",
       "    </tr>\n",
       "    <tr>\n",
       "      <th>Decision Tree</th>\n",
       "      <td>0.740385</td>\n",
       "      <td>0.629941</td>\n",
       "      <td>NA</td>\n",
       "    </tr>\n",
       "    <tr>\n",
       "      <th>SVM</th>\n",
       "      <td>0.750000</td>\n",
       "      <td>0.651984</td>\n",
       "      <td>NA</td>\n",
       "    </tr>\n",
       "    <tr>\n",
       "      <th>Log_Loss</th>\n",
       "      <td>0.721154</td>\n",
       "      <td>0.649161</td>\n",
       "      <td>0.576224</td>\n",
       "    </tr>\n",
       "  </tbody>\n",
       "</table>\n",
       "</div>"
      ],
      "text/plain": [
       "                jaccard  F1-score   LogLoss\n",
       "Algorithm                                  \n",
       "KNN            0.750000  0.729213        NA\n",
       "Decision Tree  0.740385  0.629941        NA\n",
       "SVM            0.750000  0.651984        NA\n",
       "Log_Loss       0.721154  0.649161  0.576224"
      ]
     },
     "execution_count": 93,
     "metadata": {},
     "output_type": "execute_result"
    }
   ],
   "source": [
    "data = { 'Algorithm':['KNN','Decision Tree','SVM','Log_Loss'],\n",
    "       'jaccard':[jaccard(knn_yhat),jaccard(dec_yhat),jaccard(svm_yhat),jaccard(LR_yhat)],\n",
    "       'F1-score':[f1_scores(knn_yhat),f1_scores(dec_yhat),f1_scores(svm_yhat),f1_scores(LR_yhat)],\n",
    "       'LogLoss':['NA','NA','NA',logloss()]} \n",
    "df=pd.DataFrame(data)\n",
    "df=df.set_index('Algorithm')\n",
    "df.head()"
   ]
  },
  {
   "cell_type": "markdown",
   "metadata": {},
   "source": [
    "# Report\n",
    "You should be able to report the accuracy of the built model using different evaluation metrics:"
   ]
  },
  {
   "cell_type": "markdown",
   "metadata": {},
   "source": [
    "| Algorithm          | Jaccard | F1-score | LogLoss |\n",
    "|--------------------|---------|----------|---------|\n",
    "| KNN                | ?       | ?        | NA      |\n",
    "| Decision Tree      | ?       | ?        | NA      |\n",
    "| SVM                | ?       | ?        | NA      |\n",
    "| LogisticRegression | ?       | ?        | ?       |"
   ]
  },
  {
   "cell_type": "markdown",
   "metadata": {
    "button": false,
    "new_sheet": false,
    "run_control": {
     "read_only": false
    }
   },
   "source": [
    "<h2>Want to learn more?</h2>\n",
    "\n",
    "IBM SPSS Modeler is a comprehensive analytics platform that has many machine learning algorithms. It has been designed to bring predictive intelligence to decisions made by individuals, by groups, by systems – by your enterprise as a whole. A free trial is available through this course, available here: <a href=\"http://cocl.us/ML0101EN-SPSSModeler\">SPSS Modeler</a>\n",
    "\n",
    "Also, you can use Watson Studio to run these notebooks faster with bigger datasets. Watson Studio is IBM's leading cloud solution for data scientists, built by data scientists. With Jupyter notebooks, RStudio, Apache Spark and popular libraries pre-packaged in the cloud, Watson Studio enables data scientists to collaborate on their projects without having to install anything. Join the fast-growing community of Watson Studio users today with a free account at <a href=\"https://cocl.us/ML0101EN_DSX\">Watson Studio</a>\n",
    "\n",
    "<h3>Thanks for completing this lesson!</h3>\n",
    "\n",
    "<h4>Author:  <a href=\"https://ca.linkedin.com/in/saeedaghabozorgi\">Saeed Aghabozorgi</a></h4>\n",
    "<p><a href=\"https://ca.linkedin.com/in/saeedaghabozorgi\">Saeed Aghabozorgi</a>, PhD is a Data Scientist in IBM with a track record of developing enterprise level applications that substantially increases clients’ ability to turn data into actionable knowledge. He is a researcher in data mining field and expert in developing advanced analytic methods like machine learning and statistical modelling on large datasets.</p>\n",
    "\n",
    "<hr>\n",
    "\n",
    "<p>Copyright &copy; 2018 <a href=\"https://cocl.us/DX0108EN_CC\">Cognitive Class</a>. This notebook and its source code are released under the terms of the <a href=\"https://bigdatauniversity.com/mit-license/\">MIT License</a>.</p>"
   ]
  }
 ],
 "metadata": {
  "kernelspec": {
   "display_name": "Python 3.6",
   "language": "python",
   "name": "python3"
  },
  "language_info": {
   "codemirror_mode": {
    "name": "ipython",
    "version": 3
   },
   "file_extension": ".py",
   "mimetype": "text/x-python",
   "name": "python",
   "nbconvert_exporter": "python",
   "pygments_lexer": "ipython3",
   "version": "3.6.8"
  }
 },
 "nbformat": 4,
 "nbformat_minor": 2
}
