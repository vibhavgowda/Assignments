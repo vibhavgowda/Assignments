{
  "nbformat": 4,
  "nbformat_minor": 0,
  "metadata": {
    "colab": {
      "name": "Module_3.5_Conditions_v0.1.ipynb",
      "version": "0.3.2",
      "provenance": [],
      "include_colab_link": true
    },
    "language_info": {
      "codemirror_mode": {
        "name": "ipython",
        "version": 3
      },
      "file_extension": ".py",
      "mimetype": "text/x-python",
      "name": "python",
      "nbconvert_exporter": "python",
      "pygments_lexer": "ipython3",
      "version": "3.5.2"
    },
    "kernelspec": {
      "display_name": "Python 3",
      "language": "python",
      "name": "python3"
    }
  },
  "cells": [
    {
      "cell_type": "markdown",
      "metadata": {
        "id": "view-in-github",
        "colab_type": "text"
      },
      "source": [
        "<a href=\"https://colab.research.google.com/github/vibhavgowda/Assignments/blob/master/Module_3%5CModule_3_5_Conditions_v0_1.ipynb\" target=\"_parent\"><img src=\"https://colab.research.google.com/assets/colab-badge.svg\" alt=\"Open In Colab\"/></a>"
      ]
    },
    {
      "cell_type": "markdown",
      "metadata": {
        "id": "NOHGX-Uissn3",
        "colab_type": "text"
      },
      "source": [
        "#LOOPS AND CONDITIONAL EXECUTION IN PYTHON"
      ]
    },
    {
      "cell_type": "code",
      "metadata": {
        "id": "56hSxGwKTyEH",
        "colab_type": "code",
        "outputId": "49e73aee-96a3-4943-fc13-43090572f70c",
        "colab": {
          "base_uri": "https://localhost:8080/",
          "height": 34
        }
      },
      "source": [
        "int(10.1) == 10"
      ],
      "execution_count": 1,
      "outputs": [
        {
          "output_type": "execute_result",
          "data": {
            "text/plain": [
              "True"
            ]
          },
          "metadata": {
            "tags": []
          },
          "execution_count": 1
        }
      ]
    },
    {
      "cell_type": "markdown",
      "metadata": {
        "id": "RSfXGbEpssn4",
        "colab_type": "text"
      },
      "source": [
        "## Table of Contents\n",
        "\n",
        "\n",
        "<div class=\"alert alert-block alert-info\" style=\"margin-top: 20px\">\n",
        "<li><a href=\"#ref1\">Comparison Operators </a></li>\n",
        "<li><a href=\"#ref2\">Branching</a></li>\n",
        "<li><a href=\"#ref3\">Logic Operation </a></li>\n",
        "<br>\n",
        "<p></p>\n",
        "Estimated Time Needed: <strong>15 min</strong>\n",
        "</div>\n",
        "\n",
        "<hr>"
      ]
    },
    {
      "cell_type": "markdown",
      "metadata": {
        "id": "C6YpICqkssn4",
        "colab_type": "text"
      },
      "source": [
        "<a id=\"ref1\"></a>\n",
        "<center><h2>COMPARISON OPERATORS</h2></center>"
      ]
    },
    {
      "cell_type": "markdown",
      "metadata": {
        "id": "KS94i_Nbssn5",
        "colab_type": "text"
      },
      "source": [
        "Comparison operations compare some value or operand and, based on a condition, they produce a Boolean. When comparing two values you can use these operators:\n",
        "\n",
        "<ul>\n",
        "<li>equal: `==`\n",
        "<li>not equal: `!=`\n",
        "<li>greater than: `>`</li>\n",
        "<li>less than: `<`</li>\n",
        "<li>greater than or equal to: `>=`</li>\n",
        "<li>less than or equal to: `<=`</li>\n",
        "</ul>\n",
        "\n"
      ]
    },
    {
      "cell_type": "markdown",
      "metadata": {
        "id": "39ejiwfNssn5",
        "colab_type": "text"
      },
      "source": [
        "Let's say we assign **a** a value of 6. We can use the equality operator denoted with two equal (**==**) signs to determine if two values are equal."
      ]
    },
    {
      "cell_type": "code",
      "metadata": {
        "id": "NKg0EGalssn6",
        "colab_type": "code",
        "outputId": "32d873ff-fea9-4ad9-9377-8f1c127bde22",
        "colab": {
          "base_uri": "https://localhost:8080/",
          "height": 34
        }
      },
      "source": [
        "a=5\n",
        "\n",
        "a==6"
      ],
      "execution_count": 0,
      "outputs": [
        {
          "output_type": "execute_result",
          "data": {
            "text/plain": [
              "False"
            ]
          },
          "metadata": {
            "tags": []
          },
          "execution_count": 1
        }
      ]
    },
    {
      "cell_type": "markdown",
      "metadata": {
        "id": "YmJsjdMOssn9",
        "colab_type": "text"
      },
      "source": [
        " The result is false, as 5 does not equal 6."
      ]
    },
    {
      "cell_type": "markdown",
      "metadata": {
        "id": "5szeJ2Ejssn9",
        "colab_type": "text"
      },
      "source": [
        "Consider the following equality comparison operator **i>5**. If the value of the left operand, in this case the variable **i**, is higher than the value of the right operand, in this case 5, then the condition becomes **True** or else we get a **False**.  If we set **i** equal to 6, we see that 6 is larger than 5 and as a result, we get **True**.  \n"
      ]
    },
    {
      "cell_type": "code",
      "metadata": {
        "id": "_WVvYVSTssn-",
        "colab_type": "code",
        "outputId": "fb7d6b96-6ba6-4ee8-e8c0-7c87c7b23c87",
        "colab": {
          "base_uri": "https://localhost:8080/",
          "height": 34
        }
      },
      "source": [
        "i=6\n",
        "i>5"
      ],
      "execution_count": 0,
      "outputs": [
        {
          "output_type": "execute_result",
          "data": {
            "text/plain": [
              "True"
            ]
          },
          "metadata": {
            "tags": []
          },
          "execution_count": 2
        }
      ]
    },
    {
      "cell_type": "markdown",
      "metadata": {
        "id": "0foPkjrSssoA",
        "colab_type": "text"
      },
      "source": [
        "If we set **i=2** the condition is false as 2 is less than 5:"
      ]
    },
    {
      "cell_type": "code",
      "metadata": {
        "id": "8qVY6aeGssoA",
        "colab_type": "code",
        "outputId": "ca9c1e68-5458-4637-8fa4-ced4986270ee",
        "colab": {
          "base_uri": "https://localhost:8080/",
          "height": 34
        }
      },
      "source": [
        "i=2\n",
        "i>5"
      ],
      "execution_count": 0,
      "outputs": [
        {
          "output_type": "execute_result",
          "data": {
            "text/plain": [
              "False"
            ]
          },
          "metadata": {
            "tags": []
          },
          "execution_count": 3
        }
      ]
    },
    {
      "cell_type": "markdown",
      "metadata": {
        "id": "qX4ZdM57ssoC",
        "colab_type": "text"
      },
      "source": [
        " Let's display some values for **i** in the figure. Set the values greater than 5 in green and the rest in red. The green region represents where the condition is **True**, the red where the statement is false. If the value of **i** is 2, we get **False** as the 2 falls in the red region. Similarly, if the value for **i** is 6 we get a **True** as the condition falls in the green region. "
      ]
    },
    {
      "cell_type": "markdown",
      "metadata": {
        "id": "yQpDKnX_ssoC",
        "colab_type": "text"
      },
      "source": [
        "<a ><img src = \"https://ibm.box.com/shared/static/xr028o5qcvxgdn3i1rqsjbxwaq5gb4ki.gif\" width = 500, align = \"center\"></a>\n",
        "  <h4 align=center> \n",
        "  </h4>\n"
      ]
    },
    {
      "cell_type": "markdown",
      "metadata": {
        "id": "aRu_6hVrssoD",
        "colab_type": "text"
      },
      "source": [
        " The inequality test uses an exclamation mark preceding the equal sign, if two operands are not equal then the condition becomes **True**.  For example, the following condition will produce **True** as long as the value of **i** is not equal to 6:\n"
      ]
    },
    {
      "cell_type": "code",
      "metadata": {
        "id": "NNbrO8u8ssoD",
        "colab_type": "code",
        "outputId": "ee0506df-4714-45ee-9788-b4764dcaf5ba",
        "colab": {
          "base_uri": "https://localhost:8080/",
          "height": 34
        }
      },
      "source": [
        "i=2\n",
        "i!=6"
      ],
      "execution_count": 0,
      "outputs": [
        {
          "output_type": "execute_result",
          "data": {
            "text/plain": [
              "True"
            ]
          },
          "metadata": {
            "tags": []
          },
          "execution_count": 4
        }
      ]
    },
    {
      "cell_type": "markdown",
      "metadata": {
        "id": "YQmLLEm9ssoF",
        "colab_type": "text"
      },
      "source": [
        "When **i** equals  six the expression produces **False**. "
      ]
    },
    {
      "cell_type": "code",
      "metadata": {
        "id": "QzSrBfnAssoF",
        "colab_type": "code",
        "outputId": "f4976062-8a5a-40ef-c6bb-3198d0c6d4cf",
        "colab": {
          "base_uri": "https://localhost:8080/",
          "height": 34
        }
      },
      "source": [
        "i=6\n",
        "i!=6"
      ],
      "execution_count": 0,
      "outputs": [
        {
          "output_type": "execute_result",
          "data": {
            "text/plain": [
              "False"
            ]
          },
          "metadata": {
            "tags": []
          },
          "execution_count": 5
        }
      ]
    },
    {
      "cell_type": "markdown",
      "metadata": {
        "id": "92infreGssoJ",
        "colab_type": "text"
      },
      "source": [
        " We can use a number line as before, when the condition is **True** the corresponding numbers are marked in green and for where the condition is **False** the corresponding number is marked in red.  If we set **i** equal to 2  the operator is true as 2 is in the green region. If we set **i** equal to 6 we get a **False** as the condition falls in the red region."
      ]
    },
    {
      "cell_type": "markdown",
      "metadata": {
        "id": "XSPOhqxdssoK",
        "colab_type": "text"
      },
      "source": [
        " <a ><img src = https://ibm.box.com/shared/static/pf6rvks8eh4e1riwki59gx7s9rvmidu4.gif width = 500, align = \"center\"></a>\n",
        "  <h4 align=center> \n",
        "  </h4>\n"
      ]
    },
    {
      "cell_type": "markdown",
      "metadata": {
        "id": "EKN9DS15ssoK",
        "colab_type": "text"
      },
      "source": [
        " We can use the same methods on strings, for example, if we use an equality operator on two different strings. As the strings are not equal, we get a **False**."
      ]
    },
    {
      "cell_type": "code",
      "metadata": {
        "id": "2A6fVOuOssoL",
        "colab_type": "code",
        "outputId": "ffedcd9b-c165-4044-c820-578d58924d77",
        "colab": {
          "base_uri": "https://localhost:8080/",
          "height": 34
        }
      },
      "source": [
        "\"ACDC\"==\"Michael Jackson\""
      ],
      "execution_count": 0,
      "outputs": [
        {
          "output_type": "execute_result",
          "data": {
            "text/plain": [
              "False"
            ]
          },
          "metadata": {
            "tags": []
          },
          "execution_count": 6
        }
      ]
    },
    {
      "cell_type": "markdown",
      "metadata": {
        "id": "mN-hhdYIssoN",
        "colab_type": "text"
      },
      "source": [
        " If we use the inequality operator, we get a **True** as the strings are not equal."
      ]
    },
    {
      "cell_type": "code",
      "metadata": {
        "id": "pkjGM6pWssoN",
        "colab_type": "code",
        "outputId": "5779cde0-4321-4c16-c047-2837b701dc12",
        "colab": {
          "base_uri": "https://localhost:8080/",
          "height": 34
        }
      },
      "source": [
        "\"ACDC\"!=\"Michael Jackson\""
      ],
      "execution_count": 0,
      "outputs": [
        {
          "output_type": "execute_result",
          "data": {
            "text/plain": [
              "True"
            ]
          },
          "metadata": {
            "tags": []
          },
          "execution_count": 7
        }
      ]
    },
    {
      "cell_type": "markdown",
      "metadata": {
        "id": "n93BA-QissoP",
        "colab_type": "text"
      },
      "source": [
        " We can also perform inequality operations, the order of the letter depends on the ASCII value. The decimal value shown in the following table represents  the order of the character:\n"
      ]
    },
    {
      "cell_type": "markdown",
      "metadata": {
        "id": "nsE32CBgssoP",
        "colab_type": "text"
      },
      "source": [
        " <a ><img src =https://ibm.box.com/shared/static/4grvg0o9bvhp80u88lkfcsdlvg4whvzs.svg width = 1000, align = \"center\"></a>\n",
        "  <h4 align=center> \n",
        "  </h4>"
      ]
    },
    {
      "cell_type": "markdown",
      "metadata": {
        "id": "93hjyTlvssoP",
        "colab_type": "text"
      },
      "source": [
        "For example, the decimal equivalent of **!** is 21, while the decimal equivalent of **+** is 43. Therefore **+** is larger than **!**."
      ]
    },
    {
      "cell_type": "code",
      "metadata": {
        "id": "P3b8MzETssoQ",
        "colab_type": "code",
        "outputId": "1049f6d8-303a-43aa-a70f-38f148764d68",
        "colab": {
          "base_uri": "https://localhost:8080/",
          "height": 34
        }
      },
      "source": [
        "'+'>'!'"
      ],
      "execution_count": 0,
      "outputs": [
        {
          "output_type": "execute_result",
          "data": {
            "text/plain": [
              "True"
            ]
          },
          "metadata": {
            "tags": []
          },
          "execution_count": 8
        }
      ]
    },
    {
      "cell_type": "markdown",
      "metadata": {
        "id": "lePWUDV0ssoS",
        "colab_type": "text"
      },
      "source": [
        " Similarly, the value for  **A** is 101, and the value for  **B** is 102 therefore:"
      ]
    },
    {
      "cell_type": "code",
      "metadata": {
        "id": "Xrm55_isssoS",
        "colab_type": "code",
        "outputId": "f02dc136-cb1f-4a08-a7e1-4529eff976a1",
        "colab": {
          "base_uri": "https://localhost:8080/",
          "height": 34
        }
      },
      "source": [
        "'B'>'A'"
      ],
      "execution_count": 0,
      "outputs": [
        {
          "output_type": "execute_result",
          "data": {
            "text/plain": [
              "True"
            ]
          },
          "metadata": {
            "tags": []
          },
          "execution_count": 9
        }
      ]
    },
    {
      "cell_type": "markdown",
      "metadata": {
        "id": "Qg7aL_VJssoU",
        "colab_type": "text"
      },
      "source": [
        " When there are multiple letters, the first letter takes precedence in ordering:"
      ]
    },
    {
      "cell_type": "code",
      "metadata": {
        "id": "caFkn9KjssoV",
        "colab_type": "code",
        "outputId": "52ee32aa-081f-4e78-ffb9-b45acb30a49d",
        "colab": {
          "base_uri": "https://localhost:8080/",
          "height": 34
        }
      },
      "source": [
        "'BA'>'AB'"
      ],
      "execution_count": 0,
      "outputs": [
        {
          "output_type": "execute_result",
          "data": {
            "text/plain": [
              "True"
            ]
          },
          "metadata": {
            "tags": []
          },
          "execution_count": 10
        }
      ]
    },
    {
      "cell_type": "markdown",
      "metadata": {
        "id": "k1h6K-GpssoW",
        "colab_type": "text"
      },
      "source": [
        "<a id=\"ref2\"></a>\n",
        "<center><h2>Branching</h2></center>\n",
        "\n",
        "\n"
      ]
    },
    {
      "cell_type": "markdown",
      "metadata": {
        "id": "ZRM5u7flssoX",
        "colab_type": "text"
      },
      "source": [
        " Branching allows us to run different statements for different inputs. It is helpful to think of an **if statement** as a locked room, if the statement is true you can enter the room and your program will run some predefined task, but if the statement is false your program will skip the task.\n"
      ]
    },
    {
      "cell_type": "markdown",
      "metadata": {
        "id": "PdWJpvubssoX",
        "colab_type": "text"
      },
      "source": [
        " For example, consider the blue rectangle representing an ACDC concert. If the individual is 18 or older, they can enter the ACDC concert. If they are under the age of 18 they cannot enter the concert. We have the if statement and we have the expression that can be **True** or **False**, the brackets are not necessary.  We have a colon within an indent; then we have the expression that is run if the condition is **True**. The statements after the **if statement** will run regardless of whether the condition is true or false."
      ]
    },
    {
      "cell_type": "code",
      "metadata": {
        "id": "orc9NkJMssoY",
        "colab_type": "code",
        "outputId": "ac98c5a8-63b7-426f-aa05-51eacc912aa0",
        "colab": {
          "base_uri": "https://localhost:8080/",
          "height": 51
        }
      },
      "source": [
        "age=19\n",
        "#age=18\n",
        "\n",
        "#expression that can be true or false\n",
        "if age>18:\n",
        "    \n",
        "    #within an indent, we have the expression that is run if the condition is true\n",
        "    print(\"you can enter\" )\n",
        "\n",
        "\n",
        "#The statements after the if statement will run regardless if the condition is true or false \n",
        "print(\"move on\")\n"
      ],
      "execution_count": 0,
      "outputs": [
        {
          "output_type": "stream",
          "text": [
            "you can enter\n",
            "move on\n"
          ],
          "name": "stdout"
        }
      ]
    },
    {
      "cell_type": "code",
      "metadata": {
        "id": "QiKmtva5CEBh",
        "colab_type": "code",
        "colab": {
          "base_uri": "https://localhost:8080/",
          "height": 34
        },
        "outputId": "85429b86-499c-444a-e9e6-a53dbbecca77"
      },
      "source": [
        "age = 19\n",
        "if age>18:\n",
        "  print(\"you can enter\")\n",
        "else:\n",
        "  print(\"move on\")"
      ],
      "execution_count": 4,
      "outputs": [
        {
          "output_type": "stream",
          "text": [
            "you can enter\n"
          ],
          "name": "stdout"
        }
      ]
    },
    {
      "cell_type": "markdown",
      "metadata": {
        "id": "B_RRVJcpssoa",
        "colab_type": "text"
      },
      "source": [
        "**Try uncommenting the age variable**.\n",
        "\n",
        "It is helpful to use the following diagram to illustrate the process. On the left side, we see what happens when the condition is **True**.  The person enters the ACDC concert representing the code in the indent being executed; they then move on. On the right side, we see what happens when the condition is **False**; the person is not granted access, and the person moves on. In this case, the segment of code in the indent does not run, but the rest of the statements are run. \n",
        " \n"
      ]
    },
    {
      "cell_type": "markdown",
      "metadata": {
        "id": "fyb0YBO3ssob",
        "colab_type": "text"
      },
      "source": [
        "<a ><img src =https://ibm.box.com/shared/static/l7y2t7evi5gy5n5qry718gyejkha2azk.gif width = 1000, align = \"center\"></a>\n",
        "  <h4 align=center> \n",
        "  </h4>"
      ]
    },
    {
      "cell_type": "markdown",
      "metadata": {
        "id": "UJ73b400ssod",
        "colab_type": "text"
      },
      "source": [
        "The **else** statement will run a different block of code if the same condition is false.  Let's use the ACDC concert analogy again. If the user is 17 they can not go to the ACDC concert,  but they can go to the Meatloaf concert.\n",
        "The syntax of the **else** statement is similar; we simply append the statement **else** with the new condition.\n",
        "Try changing the values of **age** to see what happens:  "
      ]
    },
    {
      "cell_type": "code",
      "metadata": {
        "id": "d9UrjljFssoe",
        "colab_type": "code",
        "outputId": "3e0767ff-2456-4854-f999-97d454521f0a",
        "colab": {
          "base_uri": "https://localhost:8080/",
          "height": 51
        }
      },
      "source": [
        "age=18\n",
        "#age=19\n",
        "if age>18:\n",
        "    \n",
        "    print(\"you can enter\" )\n",
        " \n",
        "else:\n",
        "    print(\"go see Meat Loaf\" )\n",
        "    \n",
        "\n",
        "print(\"move on\")\n",
        "\n"
      ],
      "execution_count": 0,
      "outputs": [
        {
          "output_type": "stream",
          "text": [
            "go see Meat Loaf\n",
            "move on\n"
          ],
          "name": "stdout"
        }
      ]
    },
    {
      "cell_type": "markdown",
      "metadata": {
        "id": "glh5Fzcbssog",
        "colab_type": "text"
      },
      "source": [
        "The process is demonstrated below, where each of the possibilities is illustrated on each side of the image. On the left is the case where the age is 17, we set the value of the variable age to 17, and this corresponds to the individual attending the Meatloaf concert. The right portion shows what happens when the individual is over 18, and the individual is granted access to the concert."
      ]
    },
    {
      "cell_type": "markdown",
      "metadata": {
        "id": "vwt7aAFOssog",
        "colab_type": "text"
      },
      "source": [
        " <a ><img src =https://ibm.box.com/shared/static/hkf892cpt2tx7vrt072jdp4khne0mv00.gif width = 1000, align = \"center\"></a>\n",
        "  <h4 align=center> \n",
        "  </h4>"
      ]
    },
    {
      "cell_type": "markdown",
      "metadata": {
        "id": "1ILNJp0assoh",
        "colab_type": "text"
      },
      "source": [
        "The **elif** statement, short for else if, allows us to check additional conditions if the proceeding condition is false. If the condition is **True**, the alternate expressions will be run. Consider the concert example, where if the individual is 18 they will go to the Pink Floyd concert instead of attending the ACDC or Meat-loaf concert. The person of 18 years of age enters the area, and as they are not over 19 years of age they can not see ACDC, but as they are 18 years of age, they attend  Pink Floyd. After seeing Pink Floyd, they move on. The syntax of the **elif** statement is similar in that we merely add the statement **elif** with the condition. We then add the expression we would like to execute it the statement is **True**  with an indent."
      ]
    },
    {
      "cell_type": "code",
      "metadata": {
        "id": "pANEeq2qssoh",
        "colab_type": "code",
        "outputId": "eb5bc784-6529-4717-f06b-1094901fab55",
        "colab": {
          "base_uri": "https://localhost:8080/",
          "height": 51
        }
      },
      "source": [
        "age=18\n",
        "if age>18:\n",
        "    \n",
        "    print(\"you can enter\" )\n",
        "elif age==18:\n",
        "    print(\"go see Pink Floyd\")\n",
        "else:\n",
        "    print(\"go see Meat Loaf\" )\n",
        "    \n",
        "\n",
        "print(\"move on\")"
      ],
      "execution_count": 0,
      "outputs": [
        {
          "output_type": "stream",
          "text": [
            "go see Pink Floyd\n",
            "move on\n"
          ],
          "name": "stdout"
        }
      ]
    },
    {
      "cell_type": "markdown",
      "metadata": {
        "id": "_DVpvH7Zssok",
        "colab_type": "text"
      },
      "source": [
        "The three combinations are shown in the figure below.  The left-most region shows what happens when the individual is less than 18 years of age. The central component shows when the individual is 18. The rightmost shows when the individual is over 18."
      ]
    },
    {
      "cell_type": "markdown",
      "metadata": {
        "id": "TKeHGYEfssom",
        "colab_type": "text"
      },
      "source": [
        " <a ><img src =https://ibm.box.com/shared/static/bfdcim06oly4u5t3x9dthskr0chxwyys.gif width = 1000, align = \"center\"></a>\n",
        "  <h4 align=center> \n",
        "  </h4>"
      ]
    },
    {
      "cell_type": "markdown",
      "metadata": {
        "id": "n5fXfvMQsson",
        "colab_type": "text"
      },
      "source": [
        " Look at the following code:\n"
      ]
    },
    {
      "cell_type": "code",
      "metadata": {
        "id": "gliX1JTNsson",
        "colab_type": "code",
        "outputId": "fb6adfa8-605d-48bb-b313-8fa686413da2",
        "colab": {
          "base_uri": "https://localhost:8080/",
          "height": 68
        }
      },
      "source": [
        "album_year = 1990\n",
        "if album_year > 1980:\n",
        "    print(\"Album year is greater than 1980\")\n",
        "    \n",
        "print(\"\")\n",
        "print('do something..')"
      ],
      "execution_count": 6,
      "outputs": [
        {
          "output_type": "stream",
          "text": [
            "Album year is greater than 1980\n",
            "\n",
            "do something..\n"
          ],
          "name": "stdout"
        }
      ]
    },
    {
      "cell_type": "markdown",
      "metadata": {
        "id": "n1NrfCjvssop",
        "colab_type": "text"
      },
      "source": [
        "Feel free to change **`album_year`** value to other values -- you'll see that the result changes!"
      ]
    },
    {
      "cell_type": "markdown",
      "metadata": {
        "id": "FhsKx8CWssop",
        "colab_type": "text"
      },
      "source": [
        "Notice that the code in the above **indented** block will only be executed if the results are **True**. "
      ]
    },
    {
      "cell_type": "markdown",
      "metadata": {
        "id": "NUj-picgssoq",
        "colab_type": "text"
      },
      "source": [
        "####  Write an if statement to determine if an album had a rating greater than 8. Test it using the rating for the album  “Back in Black” that had a rating of 8.5.   If the statement  is true print \"this album is Amazing !\"\n"
      ]
    },
    {
      "cell_type": "code",
      "metadata": {
        "id": "hpTMMK2qssoq",
        "colab_type": "code",
        "colab": {
          "base_uri": "https://localhost:8080/",
          "height": 34
        },
        "outputId": "a0cfb368-5ce6-4d13-f88e-225574cbcefa"
      },
      "source": [
        "album_rating = 9\n",
        "\n",
        "if album_rating > 8:\n",
        "  print(\"this album is amazing\")\n",
        "else:\n",
        "  print(\"is poor\")"
      ],
      "execution_count": 15,
      "outputs": [
        {
          "output_type": "stream",
          "text": [
            "this album is amazing\n"
          ],
          "name": "stdout"
        }
      ]
    },
    {
      "cell_type": "markdown",
      "metadata": {
        "id": "YgvT5jfQssos",
        "colab_type": "text"
      },
      "source": [
        "<div class=\"alert alert-success alertsuccess\" style=\"margin-top: 20px\">\n",
        "**Tip**: This syntax can be spread over multiple lines for ease of creation and legibility.\n",
        "</div>"
      ]
    },
    {
      "cell_type": "markdown",
      "metadata": {
        "id": "F42LnWpnssot",
        "colab_type": "text"
      },
      "source": [
        "As before, we can add an **else** block to the **if** block.  The code in the  **else** block will only be executed if the result is **False**.\n",
        "\n",
        "\n",
        "**Syntax:** \n",
        "\n",
        "if (condition):\n",
        "    # do something\n",
        "else:\n",
        "    # do something else"
      ]
    },
    {
      "cell_type": "markdown",
      "metadata": {
        "id": "-2zhFZixssot",
        "colab_type": "text"
      },
      "source": [
        " If the condition in the if statement is false, the statement after the else block will execute. This is demonstrated in the figure: \n"
      ]
    },
    {
      "cell_type": "markdown",
      "metadata": {
        "id": "gi4AL2ZIssou",
        "colab_type": "text"
      },
      "source": [
        " <a ><img src = \"https://ibm.box.com/shared/static/zygha3mwjwrcfok2jrivu7z5iirt4xgt.png\" width = 500, align = \"center\"></a>\n",
        "  <h4 align=center> \n",
        "  </h4>\n",
        "\n",
        "\n"
      ]
    },
    {
      "cell_type": "code",
      "metadata": {
        "id": "8I1O4aMtssov",
        "colab_type": "code",
        "colab": {}
      },
      "source": [
        "album_year = 1983\n",
        "#album_year=1970\n",
        "if album_year > 1980:\n",
        "    print(\"Album year is greater than 1980\")\n",
        "else:\n",
        "    print(\"less than 1980\")\n",
        "print(\"\")\n",
        "print('do something..')"
      ],
      "execution_count": 0,
      "outputs": []
    },
    {
      "cell_type": "markdown",
      "metadata": {
        "id": "aWRF1ma1ssow",
        "colab_type": "text"
      },
      "source": [
        "Feel free to change the **`album_year`** value to other values -- you'll see that the result changes based on it!"
      ]
    },
    {
      "cell_type": "markdown",
      "metadata": {
        "id": "U0Ka8U9Assox",
        "colab_type": "text"
      },
      "source": [
        "#### Write an if-else statement that performs the following. If the rating is larger then eight print “this album is amazing”. If the rating is less, then or equal to 8 print “this album is ok”.   \n"
      ]
    },
    {
      "cell_type": "code",
      "metadata": {
        "id": "RrIM237bssox",
        "colab_type": "code",
        "colab": {}
      },
      "source": [
        ""
      ],
      "execution_count": 0,
      "outputs": []
    },
    {
      "cell_type": "markdown",
      "metadata": {
        "id": "j9DyiVvQssoz",
        "colab_type": "text"
      },
      "source": [
        " <a id=\"ref3\"></a>\n",
        "<center><h2>Logical operators</h2></center>"
      ]
    },
    {
      "cell_type": "markdown",
      "metadata": {
        "id": "f67jWZnPsso0",
        "colab_type": "text"
      },
      "source": [
        "\n",
        "Sometimes you want to check more than one condition at once. For example, you might want to check if one condition and another condition is **True**. Logical operators allow you to combine or modify conditions.\n",
        "<ul>\n",
        "<li> `and`\n",
        "<li> `or`\n",
        "<li> `not` \n",
        "</ul>\n",
        "\n",
        "These operators are summarized for two variables using the following truth tables:  "
      ]
    },
    {
      "cell_type": "markdown",
      "metadata": {
        "id": "hFYXHyKysso0",
        "colab_type": "text"
      },
      "source": [
        " <a ><img src = \"https://ibm.box.com/shared/static/kbkqfu6apx9wczu79j6ug8xs9c6tt3d3.png\" width = 500, align = \"center\"></a>\n",
        "  <h4 align=center> \n",
        "  </h4>\n"
      ]
    },
    {
      "cell_type": "markdown",
      "metadata": {
        "id": "lstoO_8Wsso1",
        "colab_type": "text"
      },
      "source": [
        " The **and** statement is only **True** when both conditions are true. The **or** statement is true if one condition is **True**.    Finally the **not** statement outputs the opposite truth value."
      ]
    },
    {
      "cell_type": "markdown",
      "metadata": {
        "id": "XhKcr97isso1",
        "colab_type": "text"
      },
      "source": [
        "We would like to determine if an album was released after 1980 and before 1990. Both time periods between 1981 and 1989 satisfy this condition. This is demonstrated in the figure below. The green on lines **a** and **b** represents periods where the statement is **True**. The green on line **c** represents where both conditions are **True**, this corresponds to where the green regions overlap. \n",
        "\n"
      ]
    },
    {
      "cell_type": "markdown",
      "metadata": {
        "id": "DIt-38uRsso2",
        "colab_type": "text"
      },
      "source": [
        " <a ><img src = \"https://ibm.box.com/shared/static/mtvdx315p1a2bp6e1vqv3uppnzp3wu2i.png\" width = 500, align = \"center\"></a>\n",
        "  <h4 align=center> An example of an if else statement \n",
        "  </h4>\n"
      ]
    },
    {
      "cell_type": "markdown",
      "metadata": {
        "id": "VbJC5g5bsso2",
        "colab_type": "text"
      },
      "source": [
        " The block of code to perform this check is given by:"
      ]
    },
    {
      "cell_type": "code",
      "metadata": {
        "id": "X93PmY0Asso3",
        "colab_type": "code",
        "colab": {}
      },
      "source": [
        "album_year = 1980\n",
        "\n",
        "if(album_year > 1979) and (album_year < 1990):\n",
        "    print (\"Album year was in between 1981 and 1989\")\n",
        "    \n",
        "print(\"\")\n",
        "print(\"Do Stuff..\")"
      ],
      "execution_count": 0,
      "outputs": []
    },
    {
      "cell_type": "markdown",
      "metadata": {
        "id": "RrdCXlmCsso4",
        "colab_type": "text"
      },
      "source": [
        "To determine if an album was released before 1980 or after 1990, we can use an **or** statement. Periods before 1981 or after 1989 satisfy this condition. This is demonstrated in the following figure, the color green in **a** and **b** represents periods where the statement is true. The color green in **c** represents where at least one of the conditions \n",
        "are true.  \n"
      ]
    },
    {
      "cell_type": "markdown",
      "metadata": {
        "id": "XBuaGEqUsso5",
        "colab_type": "text"
      },
      "source": [
        " <a ><img src = \"https://ibm.box.com/shared/static/lw0zehvs2rrs9yjit5i0mf2zgtfe6rl1.png\" width = 500, align = \"center\"></a>\n",
        "  <h4 align=center>  An example of an if else statement \n",
        "  </h4>\n"
      ]
    },
    {
      "cell_type": "markdown",
      "metadata": {
        "id": "INRoGNrasso5",
        "colab_type": "text"
      },
      "source": [
        "The block of code to perform this check is given by:"
      ]
    },
    {
      "cell_type": "code",
      "metadata": {
        "id": "scMhn3_jsso6",
        "colab_type": "code",
        "colab": {}
      },
      "source": [
        "album_year = 1990\n",
        "\n",
        "if(album_year < 1980) or (album_year > 1989):\n",
        "    print (\"Album was not made in the 1980's\")\n",
        "else:\n",
        "    print(\"The Album was made in the 1980's \")"
      ],
      "execution_count": 0,
      "outputs": []
    },
    {
      "cell_type": "markdown",
      "metadata": {
        "id": "RlFlA6B-sso8",
        "colab_type": "text"
      },
      "source": [
        "The **not** statement checks if the statement is false:"
      ]
    },
    {
      "cell_type": "code",
      "metadata": {
        "id": "0IhJwQgwsso8",
        "colab_type": "code",
        "colab": {}
      },
      "source": [
        "album_year = 1983\n",
        "\n",
        "if not (album_year == '1984'):\n",
        "    print (\"Album year is not 1984\")"
      ],
      "execution_count": 0,
      "outputs": []
    },
    {
      "cell_type": "markdown",
      "metadata": {
        "id": "G9meDgAgsso-",
        "colab_type": "text"
      },
      "source": [
        "#### Write an if statement to determine if an album came out before 1980 or in the years: 1991 or 1993. If the condition is true print out the year the album came out.\n"
      ]
    },
    {
      "cell_type": "code",
      "metadata": {
        "id": "hHyfazW8sso-",
        "colab_type": "code",
        "outputId": "d6ccc185-d9c6-4eda-ea6d-59d6377fc5cd",
        "colab": {
          "base_uri": "https://localhost:8080/",
          "height": 34
        }
      },
      "source": [
        "if(\"1\" != 1):\n",
        "  print('Lets see')"
      ],
      "execution_count": 16,
      "outputs": [
        {
          "output_type": "stream",
          "text": [
            "Lets see\n"
          ],
          "name": "stdout"
        }
      ]
    },
    {
      "cell_type": "markdown",
      "metadata": {
        "id": "WY72zAHosspA",
        "colab_type": "text"
      },
      "source": [
        "<div class=\"alert alert-success alertsuccess\" style=\"margin-top: 20px\">\n",
        "**Tip**: All the expressions will return the value in Boolean format -- this format can only house two values: true or false!\n",
        "</div>"
      ]
    },
    {
      "cell_type": "markdown",
      "metadata": {
        "id": "kZqAAWDDsspB",
        "colab_type": "text"
      },
      "source": [
        "<hr>"
      ]
    }
  ]
}